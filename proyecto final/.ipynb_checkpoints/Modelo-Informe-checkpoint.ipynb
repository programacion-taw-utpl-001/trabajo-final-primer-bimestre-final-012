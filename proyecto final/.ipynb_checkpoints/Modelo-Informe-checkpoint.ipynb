{
 "cells": [
  {
   "cell_type": "markdown",
   "metadata": {},
   "source": [
    "## Proyecto de Visualización de Datos"
   ]
  },
  {
   "cell_type": "markdown",
   "metadata": {},
   "source": [
    "## Guía de Instalación\n",
    "\n",
    "### Instalación con pip en Windows\n",
    "\n",
    "Para la instalación de Jupyter, Bokeh y Pandas en windos tendremos que ir a la direccion en la que se ha instalado Python, por lo general de manera nativa se ubica en \n",
    "\n",
    "```cmd\n",
    "cd C:\\Users\\local_user\\AppData\\Local\\Programs\\Python\\Python36-32\n",
    "```\n",
    "\n",
    "Seguidamente nos dirigimos hacia la carpeta Scripts que se encuentra dentro del directorio de Instalación de Python\n",
    "\n",
    "```cmd\n",
    "cd Scripts\n",
    "```\n",
    "Una vez dentro podemos instalar los Scripts necesarios para el uso del presente trabajo.\n",
    "Cada línea de comando debe ser ejecutada una vez terminada cada instalación de las librerias\n",
    "\n",
    "```cmd\n",
    "pip3 install jupyterhub\n",
    "pip3 install bokeh\n",
    "pip3 install pandas\n",
    "```\n",
    "\n",
    "Para la visualización del proyecto debemos ejecutar lo siguiente\n",
    "\n",
    "```cmd\n",
    "git clone https://github.com/programacion-taw-utpl-001/trabajo-final-primer-bimestre-final-012.git\n",
    "cd trabajo-final-primer-bimestre-final-012\n",
    "python -m notebook\n",
    "```\n",
    "\n",
    "### Instalación en Linux/Ubuntu\n",
    "\n",
    "Para iniciar debemos estar seguros de que nuestro sistema esta actualizado, para esto ejecutamos el siguiente comando\n",
    "\n",
    "```cmd\n",
    "sudo apt-get update\n",
    "```\n",
    "Si queremos actualizar nuestro pip ejecutamos el siguiente comando\n",
    "\n",
    "```cmd\n",
    "pip3 install --upgrade pip\n",
    "```\n",
    "\n",
    "Una vez asegurados que esta acutalizado podemos instalar las 3 librerias desde el terminal con los comandos\n",
    "\n",
    "```cmd\n",
    "pip3 install jupyterhub\n",
    "pip3 install --upgrade notebook\n",
    "pip3 install bokeh\n",
    "pip3 install pandas\n",
    "```\n",
    "Para abrir el proyecto debemos clonarlo; para visualizarlo debemos ejecutar lo siguiente:\n",
    "\n",
    "```cmd\n",
    "git clone https://github.com/programacion-taw-utpl-001/trabajo-final-primer-bimestre-final-012.git\n",
    "cd trabajo-final-primer-bimestre-final-012\n",
    "jupyter notebook\n",
    "```"
   ]
  },
  {
   "cell_type": "markdown",
   "metadata": {},
   "source": [
    "\n",
    "- Describir la forma de obtención de la información\n",
    "\n"
   ]
  },
  {
   "cell_type": "markdown",
   "metadata": {},
   "source": [
    "## Marco Teórico\n",
    "### Python\n",
    "\n",
    "Python fue creado a finales de los años ochenta, por [Guido van Rossum](http://www.maestrosdelweb.com/introspectiva-guido-van-rossum-python/) en el Centro para las Matemáticas y la Informática en los paises bajos.\n",
    "El nombre del lenguaje proviene de la adficion de su creador por los humoristas británicos Monty Python.\n",
    "\n",
    "Python es un lenguaje de programación fácil de aprender, eficiente y con un enfoque a la programación orientada a objetos.\n",
    "La facilidad de tipado, y su limpia sintaxis hace de Python un lenguaje para el desarrollo rapido de aplicaciones en diversas áreas y sobre la mayoría de las plataformas.\n",
    "\n",
    "La filosofía de Python trata en que la sintaxis favorezca a que sea un código legible.\n",
    "\n",
    "### JupyterHub\n",
    "Es una aplicación web de código abierto que nos permite crear y compartir documentos con un enfoque al modulado estadístico.\n",
    "\n",
    "### Pandas\n",
    "Es una librería para Python, que nos permite la manipulación de datos y su análisis. Nos ofrece rápidas y flexibles estructuras y operaciones para el manejo de tablas numéricas, haciendolas más fáciles e intuitivas.\n",
    "\n",
    "### Bokeh\n",
    "Es una libreria interactiva de Python que nos ayuda para presentacion de datos en navegadores. Es elegantem y nos permite crear graficas interactivas de manera sencilla.\n",
    "Dentro de su [Guia de Usuario](https://bokeh.pydata.org/en/latest/docs/user_guide.html) podremos encontrar algunos ejemplos de gráficas con las que podemos tomar como ejemplares al querer usar esta librería.\n",
    "\n"
   ]
  },
  {
   "cell_type": "markdown",
   "metadata": {},
   "source": [
    "## Introducción\n",
    "\n",
    "Para la realización de este proyecto nos basaremos en los datos estadísticos que extraeremos de la pagina [Ecuado en Cifras](http://www.ecuadorencifras.gob.ec/institucional/home/) para su posterior presentación y manejo de datos con las librerías antes mencionadas."
   ]
  },
  {
   "cell_type": "markdown",
   "metadata": {},
   "source": [
    "## Metodología\n",
    "El uso de las librerías anteriormente citadas es indispensable para el desarrollo de este proyecto.\n",
    "Lo primero que debemos hacer es leer un archivo \".csv\" para ser leído por pandas, para esto usaremos un metodo que se encuentra en pandas llamado **read_csv(nombreFichero,lenguaje_en_uso)** para que se lea y poder albergar la data en una variable que crearemos.\n",
    "\n",
    "```python\n",
    "variable= read_csv(\"nombreFichero.csv\",engine='lenguaje_en_uso')\n",
    "```\n",
    "Al hacer esto ya tendremos nuestro .csv dentro de una variable para poder usarlo, lo siguiente es que se presenta la data en un \"DataFrame\" que su funcion es dar la data ordenada y tabulada para una mejor presentación entre filas y columnas.\n",
    "\n",
    "Otros métodos que seran necesarios durante el trabajo del proyecto son:\n",
    "\n",
    "* ColumDataSource() Es un metodo muy importante que nos permite el manejo de DataFrame para ser enviados a un metodo figure para que se realice su presentación.\n",
    "```python\n",
    "source = ColumnDataSource(data=data)\n",
    "```\n",
    "\n",
    "* figure() es un método que nos permite realizar figuras para ser presentadas\n",
    "```python\n",
    "p = figure(x_range, y_range, plot_height, title,toolbar_location, tools)\n",
    "```\n",
    "\n",
    "* show() Este método nos permite la presentación de la figura que se la pase como parámetro\n",
    "```python\n",
    "show(parametro)\n",
    "```\n",
    "\n",
    "Con los métodos anteriormente mencionados (que son los más importantes para nuestro proyecto) podremos tener como resultados los siguientes gráficos\n",
    "\n",
    "[[https://github.com/programacion-taw-utpl-001/trabajo-final-primer-bimestre-final-012/blob/master/Anexos/Censo_Sierra.png |alt=Censo_Sierra]]\n",
    "\n",
    "Como podemos observar la población censada en Ecuador el 2010 es mayoritaria en Pichincha al contrario que Carchi que vendría a ser la de menor población; también podemos observar que hay mayor cantidad de mujeres que hombres en Pichincha y un poco más equilibrado Carchi con su población.\n",
    "\n",
    "[[https://github.com/programacion-taw-utpl-001/trabajo-final-primer-bimestre-final-012/blob/master/Anexos/Censo_provincias_Costa.png |alt=Censo_Costa]]\n",
    "\n",
    "En esta gráfica podemos observar que Guayaquil predomina sobre todas las demás provincias con con una diferencia demasiado notable en cuanto población y que Santa Elena es la menos poblada y con mayor equilibrio poblacional tanto en hombres como mujeres.\n",
    "\n",
    "[[https://github.com/programacion-taw-utpl-001/trabajo-final-primer-bimestre-final-012/blob/master/Anexos/Censo_Oriente.png |alt=Censo_Oriente]]\n",
    "\n",
    "Como podemos apreciar en el Oriente la provincia de mayor población es Sucumbios y de manera casi igualada esta Morona Santiago y Orellana.\n",
    "\n",
    "[[https://github.com/programacion-taw-utpl-001/trabajo-final-primer-bimestre-final-012/blob/master/Anexos/Censo_provincias_Grandes.png|alt=Prov_grandes]]\n",
    "\n",
    "Con la siguiente gráfica podemos notar que Guayaquil es el predominante entre las provincias más grandes de nuestro país y que con esto viene a ser la provincia con mayor población en el Ecuador.\n",
    "\n",
    "[[https://github.com/programacion-taw-utpl-001/trabajo-final-primer-bimestre-final-012/blob/master/Anexos/Censo_provincias_Peque%C3%B1as.png|alt=Prov_peque]]\n",
    "\n",
    "En esta gráfica podemos observar que Galápagos es la provincia menos poblada del Ecuador, pero al no tener tanta población da paso a que en épocas de turismo esta provincia tenga mayor cavida para turisticas tanto locales como extranjeros.\n",
    "\n",
    "[[https://github.com/programacion-taw-utpl-001/trabajo-final-primer-bimestre-final-012/blob/master/Anexos/Censo_Total_p1.png|alt=total1]]\n",
    "[[https://github.com/programacion-taw-utpl-001/trabajo-final-primer-bimestre-final-012/blob/master/Anexos/Censo_Total_p2.png|alt=total2]]\n",
    "\n",
    "La población total de Ecuador mayor poiblacion en provincias grandes en comparación de las más pequeñas y en relación de las del Oriente."
   ]
  },
  {
   "cell_type": "markdown",
   "metadata": {},
   "source": [
    "## Resultados\n",
    " * Los datos usados en este proyecto son realizados con datos desactualizados ya que son del año 2010\n",
    " * Las provincias de mayor población son Pichincha y Guayaquil\n",
    " * Las provincias de menor población son Galápagos y Zamora Chinchipe\n"
   ]
  },
  {
   "cell_type": "markdown",
   "metadata": {},
   "source": [
    "## Conclusión\n",
    "Para finalizar, la poblacion del Ecuador es muy diversa e independiente de las provincias, pueden ser atractivos turisticos de gran potencial pero aun asi no es razon para ser más o menos poblada."
   ]
  },
  {
   "cell_type": "markdown",
   "metadata": {},
   "source": [
    "## Bibliografía\n",
    "   *  http://docs.python.org.ar/tutorial/3/real-index.html\n",
    "   *  https://www.coursera.org/learn/aprendiendo-programar-python\n",
    "   *  https://es.wikipedia.org/wiki/Python\n",
    "   *  https://bokeh.pydata.org/en/latest/\n",
    "   *  http://www.maestrosdelweb.com/introspectiva-guido-van-rossum-python/\n",
    "   *  https://bokeh.pydata.org/en/latest/docs/user_guide.html\n",
    "   *  https://github.com/bokeh/bokeh\n",
    "   *  http://jupyter.org/\n",
    "   *  http://jupyterhub.readthedocs.io/en/latest/quickstart.html\n",
    "   *  https://github.com/jupyterhub/jupyterhub\n",
    "   *  https://en.wikipedia.org/wiki/Pandas_(software)\n",
    "   *  https://pandas.pydata.org/pandas-docs/stable/\n",
    "   *  https://pandas.pydata.org/"
   ]
  },
  {
   "cell_type": "markdown",
   "metadata": {},
   "source": [
    "## Anexos\n",
    "   * Imagenés(png):\n",
    "https://github.com/programacion-taw-utpl-001/trabajo-final-primer-bimestre-final-012/tree/master/Anexos"
   ]
  },
  {
   "cell_type": "code",
   "execution_count": null,
   "metadata": {
    "collapsed": true
   },
   "outputs": [],
   "source": []
  }
 ],
 "metadata": {
  "kernelspec": {
   "display_name": "Python 3",
   "language": "python",
   "name": "python3"
  },
  "language_info": {
   "codemirror_mode": {
    "name": "ipython",
    "version": 3
   },
   "file_extension": ".py",
   "mimetype": "text/x-python",
   "name": "python",
   "nbconvert_exporter": "python",
   "pygments_lexer": "ipython3",
   "version": "3.5.2"
  }
 },
 "nbformat": 4,
 "nbformat_minor": 2
}
