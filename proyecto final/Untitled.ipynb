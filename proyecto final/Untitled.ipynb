{
 "cells": [
  {
   "cell_type": "code",
   "execution_count": 1,
   "metadata": {},
   "outputs": [],
   "source": [
    "import pandas as pd"
   ]
  },
  {
   "cell_type": "code",
   "execution_count": 23,
   "metadata": {},
   "outputs": [
    {
     "ename": "NameError",
     "evalue": "name 'pd' is not defined",
     "output_type": "error",
     "traceback": [
      "\u001b[0;31m---------------------------------------------------------------------------\u001b[0m",
      "\u001b[0;31mNameError\u001b[0m                                 Traceback (most recent call last)",
      "\u001b[0;32m<ipython-input-23-5a0988f008ff>\u001b[0m in \u001b[0;36m<module>\u001b[0;34m()\u001b[0m\n\u001b[1;32m      1\u001b[0m \u001b[0;31m# Para leer nuestra tabla utilizaremos una variable y ya que se trata de un archivo cssv utilizaremos el comando pd.read_csv que es pra leeelo\u001b[0m\u001b[0;34m\u001b[0m\u001b[0;34m\u001b[0m\u001b[0m\n\u001b[1;32m      2\u001b[0m \u001b[0;31m# Nuestro dataset es sobre el ultimo censo en ecuador en 2010\u001b[0m\u001b[0;34m\u001b[0m\u001b[0;34m\u001b[0m\u001b[0m\n\u001b[0;32m----> 3\u001b[0;31m \u001b[0mdatos\u001b[0m\u001b[0;34m=\u001b[0m\u001b[0mpd\u001b[0m\u001b[0;34m.\u001b[0m\u001b[0mread_csv\u001b[0m\u001b[0;34m(\u001b[0m\u001b[0;34m'dasetecudor-2010 (2).csv'\u001b[0m\u001b[0;34m,\u001b[0m \u001b[0mengine\u001b[0m\u001b[0;34m=\u001b[0m\u001b[0;34m'python'\u001b[0m\u001b[0;34m)\u001b[0m\u001b[0;34m\u001b[0m\u001b[0m\n\u001b[0m\u001b[1;32m      4\u001b[0m \u001b[0mdatos\u001b[0m\u001b[0;34m\u001b[0m\u001b[0m\n",
      "\u001b[0;31mNameError\u001b[0m: name 'pd' is not defined"
     ]
    }
   ],
   "source": [
    "# Para leer nuestra tabla utilizaremos una variable y ya que se trata de un archivo cssv utilizaremos el comando pd.read_csv que es pra leeelo\n",
    "# Nuestro dataset es sobre el ultimo censo en ecuador en 2010\n",
    "datos=pd.read_csv('dasetecudor-2010 (2).csv', engine='python')\n",
    "datos"
   ]
  },
  {
   "cell_type": "code",
   "execution_count": 24,
   "metadata": {},
   "outputs": [
    {
     "ename": "NameError",
     "evalue": "name 'datos' is not defined",
     "output_type": "error",
     "traceback": [
      "\u001b[0;31m---------------------------------------------------------------------------\u001b[0m",
      "\u001b[0;31mNameError\u001b[0m                                 Traceback (most recent call last)",
      "\u001b[0;32m<ipython-input-24-3c09658021ed>\u001b[0m in \u001b[0;36m<module>\u001b[0;34m()\u001b[0m\n\u001b[1;32m      1\u001b[0m \u001b[0;31m# A nuestra variable le ponemos .colums ya que eso nos ayudara a precentar el encabezado de nuestras columnas\u001b[0m\u001b[0;34m\u001b[0m\u001b[0;34m\u001b[0m\u001b[0m\n\u001b[0;32m----> 2\u001b[0;31m \u001b[0mdatos\u001b[0m\u001b[0;34m.\u001b[0m\u001b[0mcolumns\u001b[0m\u001b[0;34m\u001b[0m\u001b[0m\n\u001b[0m",
      "\u001b[0;31mNameError\u001b[0m: name 'datos' is not defined"
     ]
    }
   ],
   "source": [
    "# A nuestra variable le ponemos .colums ya que eso nos ayudara a precentar el encabezado de nuestras columnas\n",
    "datos.columns"
   ]
  },
  {
   "cell_type": "code",
   "execution_count": 25,
   "metadata": {},
   "outputs": [
    {
     "ename": "NameError",
     "evalue": "name 'pd' is not defined",
     "output_type": "error",
     "traceback": [
      "\u001b[0;31m---------------------------------------------------------------------------\u001b[0m",
      "\u001b[0;31mNameError\u001b[0m                                 Traceback (most recent call last)",
      "\u001b[0;32m<ipython-input-25-7e11c34b690e>\u001b[0m in \u001b[0;36m<module>\u001b[0;34m()\u001b[0m\n\u001b[1;32m      1\u001b[0m \u001b[0;31m# Ahora a nuestro dataset lo meteremos dentro de una tabla para poder manipularla\u001b[0m\u001b[0;34m\u001b[0m\u001b[0;34m\u001b[0m\u001b[0m\n\u001b[0;32m----> 2\u001b[0;31m \u001b[0mtabla1\u001b[0m \u001b[0;34m=\u001b[0m \u001b[0mpd\u001b[0m\u001b[0;34m.\u001b[0m\u001b[0mread_csv\u001b[0m\u001b[0;34m(\u001b[0m\u001b[0;34m'dasetecudor-2010 (2).csv'\u001b[0m\u001b[0;34m)\u001b[0m\u001b[0;34m\u001b[0m\u001b[0m\n\u001b[0m",
      "\u001b[0;31mNameError\u001b[0m: name 'pd' is not defined"
     ]
    }
   ],
   "source": [
    "# Ahora a nuestro dataset lo meteremos dentro de una tabla para poder manipularla\n",
    "tabla1 = pd.read_csv('dasetecudor-2010 (2).csv')"
   ]
  },
  {
   "cell_type": "code",
   "execution_count": 26,
   "metadata": {},
   "outputs": [
    {
     "ename": "NameError",
     "evalue": "name 'tabla1' is not defined",
     "output_type": "error",
     "traceback": [
      "\u001b[0;31m---------------------------------------------------------------------------\u001b[0m",
      "\u001b[0;31mNameError\u001b[0m                                 Traceback (most recent call last)",
      "\u001b[0;32m<ipython-input-26-d3b36c3d84ab>\u001b[0m in \u001b[0;36m<module>\u001b[0;34m()\u001b[0m\n\u001b[1;32m      1\u001b[0m \u001b[0;31m# invocamos a nuestra tabla\u001b[0m\u001b[0;34m\u001b[0m\u001b[0;34m\u001b[0m\u001b[0m\n\u001b[0;32m----> 2\u001b[0;31m \u001b[0mtype\u001b[0m\u001b[0;34m(\u001b[0m\u001b[0mtabla1\u001b[0m\u001b[0;34m)\u001b[0m\u001b[0;34m\u001b[0m\u001b[0m\n\u001b[0m",
      "\u001b[0;31mNameError\u001b[0m: name 'tabla1' is not defined"
     ]
    }
   ],
   "source": [
    "# invocamos a nuestra tabla\n",
    "type(tabla1)"
   ]
  },
  {
   "cell_type": "code",
   "execution_count": 27,
   "metadata": {},
   "outputs": [
    {
     "ename": "NameError",
     "evalue": "name 'tabla1' is not defined",
     "output_type": "error",
     "traceback": [
      "\u001b[0;31m---------------------------------------------------------------------------\u001b[0m",
      "\u001b[0;31mNameError\u001b[0m                                 Traceback (most recent call last)",
      "\u001b[0;32m<ipython-input-27-f9124e47e2cb>\u001b[0m in \u001b[0;36m<module>\u001b[0;34m()\u001b[0m\n\u001b[1;32m      1\u001b[0m \u001b[0;31m# ahora presentaremos los datos mas significativos para nosotros\u001b[0m\u001b[0;34m\u001b[0m\u001b[0;34m\u001b[0m\u001b[0m\n\u001b[0;32m----> 2\u001b[0;31m \u001b[0mtabla1\u001b[0m\u001b[0;34m[\u001b[0m\u001b[0;34m[\u001b[0m\u001b[0;34m'Provincia'\u001b[0m\u001b[0;34m,\u001b[0m\u001b[0;34m'Canton'\u001b[0m\u001b[0;34m,\u001b[0m\u001b[0;34m'Hombre'\u001b[0m\u001b[0;34m,\u001b[0m \u001b[0;34m'Mujer'\u001b[0m\u001b[0;34m]\u001b[0m\u001b[0;34m]\u001b[0m\u001b[0;34m\u001b[0m\u001b[0m\n\u001b[0m",
      "\u001b[0;31mNameError\u001b[0m: name 'tabla1' is not defined"
     ]
    }
   ],
   "source": [
    "# ahora presentaremos los datos mas significativos para nosotros\n",
    "tabla1[['Provincia','Canton','Hombre', 'Mujer']]"
   ]
  },
  {
   "cell_type": "code",
   "execution_count": 28,
   "metadata": {},
   "outputs": [
    {
     "ename": "NameError",
     "evalue": "name 'tabla1' is not defined",
     "output_type": "error",
     "traceback": [
      "\u001b[0;31m---------------------------------------------------------------------------\u001b[0m",
      "\u001b[0;31mNameError\u001b[0m                                 Traceback (most recent call last)",
      "\u001b[0;32m<ipython-input-28-ecc19aa72f97>\u001b[0m in \u001b[0;36m<module>\u001b[0;34m()\u001b[0m\n\u001b[1;32m      1\u001b[0m \u001b[0;31m# ya que sabemos que gracias a la tabla podemos presentar un dato especifico presentaremos total que es el que contiene el total de poblacion de cada provincia\u001b[0m\u001b[0;34m\u001b[0m\u001b[0;34m\u001b[0m\u001b[0m\n\u001b[0;32m----> 2\u001b[0;31m \u001b[0mtabla1\u001b[0m\u001b[0;34m.\u001b[0m\u001b[0mloc\u001b[0m\u001b[0;34m[\u001b[0m\u001b[0mtabla1\u001b[0m\u001b[0;34m.\u001b[0m\u001b[0mCanton\u001b[0m \u001b[0;34m==\u001b[0m \u001b[0;34m'Total'\u001b[0m\u001b[0;34m]\u001b[0m\u001b[0;34m\u001b[0m\u001b[0m\n\u001b[0m",
      "\u001b[0;31mNameError\u001b[0m: name 'tabla1' is not defined"
     ]
    }
   ],
   "source": [
    "# ya que sabemos que gracias a la tabla podemos presentar un dato especifico presentaremos total que es el que contiene el total de poblacion de cada provincia\n",
    "tabla1.loc[tabla1.Canton == 'Total']"
   ]
  },
  {
   "cell_type": "code",
   "execution_count": 29,
   "metadata": {},
   "outputs": [
    {
     "data": {
      "text/html": [
       "\n",
       "    <div class=\"bk-root\">\n",
       "        <a href=\"https://bokeh.pydata.org\" target=\"_blank\" class=\"bk-logo bk-logo-small bk-logo-notebook\"></a>\n",
       "        <span id=\"d327d5ca-04bc-48cb-81e5-f2f3c3fe8c3a\">Loading BokehJS ...</span>\n",
       "    </div>"
      ]
     },
     "metadata": {},
     "output_type": "display_data"
    },
    {
     "data": {
      "application/javascript": [
       "\n",
       "(function(root) {\n",
       "  function now() {\n",
       "    return new Date();\n",
       "  }\n",
       "\n",
       "  var force = true;\n",
       "\n",
       "  if (typeof (root._bokeh_onload_callbacks) === \"undefined\" || force === true) {\n",
       "    root._bokeh_onload_callbacks = [];\n",
       "    root._bokeh_is_loading = undefined;\n",
       "  }\n",
       "\n",
       "  var JS_MIME_TYPE = 'application/javascript';\n",
       "  var HTML_MIME_TYPE = 'text/html';\n",
       "  var EXEC_MIME_TYPE = 'application/vnd.bokehjs_exec.v0+json';\n",
       "  var CLASS_NAME = 'output_bokeh rendered_html';\n",
       "\n",
       "  /**\n",
       "   * Render data to the DOM node\n",
       "   */\n",
       "  function render(props, node) {\n",
       "    var script = document.createElement(\"script\");\n",
       "    node.appendChild(script);\n",
       "  }\n",
       "\n",
       "  /**\n",
       "   * Handle when an output is cleared or removed\n",
       "   */\n",
       "  function handleClearOutput(event, handle) {\n",
       "    var cell = handle.cell;\n",
       "\n",
       "    var id = cell.output_area._bokeh_element_id;\n",
       "    var server_id = cell.output_area._bokeh_server_id;\n",
       "    // Clean up Bokeh references\n",
       "    if (id !== undefined) {\n",
       "      Bokeh.index[id].model.document.clear();\n",
       "      delete Bokeh.index[id];\n",
       "    }\n",
       "\n",
       "    if (server_id !== undefined) {\n",
       "      // Clean up Bokeh references\n",
       "      var cmd = \"from bokeh.io.state import curstate; print(curstate().uuid_to_server['\" + server_id + \"'].get_sessions()[0].document.roots[0]._id)\";\n",
       "      cell.notebook.kernel.execute(cmd, {\n",
       "        iopub: {\n",
       "          output: function(msg) {\n",
       "            var element_id = msg.content.text.trim();\n",
       "            Bokeh.index[element_id].model.document.clear();\n",
       "            delete Bokeh.index[element_id];\n",
       "          }\n",
       "        }\n",
       "      });\n",
       "      // Destroy server and session\n",
       "      var cmd = \"import bokeh.io.notebook as ion; ion.destroy_server('\" + server_id + \"')\";\n",
       "      cell.notebook.kernel.execute(cmd);\n",
       "    }\n",
       "  }\n",
       "\n",
       "  /**\n",
       "   * Handle when a new output is added\n",
       "   */\n",
       "  function handleAddOutput(event, handle) {\n",
       "    var output_area = handle.output_area;\n",
       "    var output = handle.output;\n",
       "\n",
       "    // limit handleAddOutput to display_data with EXEC_MIME_TYPE content only\n",
       "    if ((output.output_type != \"display_data\") || (!output.data.hasOwnProperty(EXEC_MIME_TYPE))) {\n",
       "      return\n",
       "    }\n",
       "\n",
       "    var toinsert = output_area.element.find(\".\" + CLASS_NAME.split(' ')[0]);\n",
       "\n",
       "    if (output.metadata[EXEC_MIME_TYPE][\"id\"] !== undefined) {\n",
       "      toinsert[0].firstChild.textContent = output.data[JS_MIME_TYPE];\n",
       "      // store reference to embed id on output_area\n",
       "      output_area._bokeh_element_id = output.metadata[EXEC_MIME_TYPE][\"id\"];\n",
       "    }\n",
       "    if (output.metadata[EXEC_MIME_TYPE][\"server_id\"] !== undefined) {\n",
       "      var bk_div = document.createElement(\"div\");\n",
       "      bk_div.innerHTML = output.data[HTML_MIME_TYPE];\n",
       "      var script_attrs = bk_div.children[0].attributes;\n",
       "      for (var i = 0; i < script_attrs.length; i++) {\n",
       "        toinsert[0].firstChild.setAttribute(script_attrs[i].name, script_attrs[i].value);\n",
       "      }\n",
       "      // store reference to server id on output_area\n",
       "      output_area._bokeh_server_id = output.metadata[EXEC_MIME_TYPE][\"server_id\"];\n",
       "    }\n",
       "  }\n",
       "\n",
       "  function register_renderer(events, OutputArea) {\n",
       "\n",
       "    function append_mime(data, metadata, element) {\n",
       "      // create a DOM node to render to\n",
       "      var toinsert = this.create_output_subarea(\n",
       "        metadata,\n",
       "        CLASS_NAME,\n",
       "        EXEC_MIME_TYPE\n",
       "      );\n",
       "      this.keyboard_manager.register_events(toinsert);\n",
       "      // Render to node\n",
       "      var props = {data: data, metadata: metadata[EXEC_MIME_TYPE]};\n",
       "      render(props, toinsert[0]);\n",
       "      element.append(toinsert);\n",
       "      return toinsert\n",
       "    }\n",
       "\n",
       "    /* Handle when an output is cleared or removed */\n",
       "    events.on('clear_output.CodeCell', handleClearOutput);\n",
       "    events.on('delete.Cell', handleClearOutput);\n",
       "\n",
       "    /* Handle when a new output is added */\n",
       "    events.on('output_added.OutputArea', handleAddOutput);\n",
       "\n",
       "    /**\n",
       "     * Register the mime type and append_mime function with output_area\n",
       "     */\n",
       "    OutputArea.prototype.register_mime_type(EXEC_MIME_TYPE, append_mime, {\n",
       "      /* Is output safe? */\n",
       "      safe: true,\n",
       "      /* Index of renderer in `output_area.display_order` */\n",
       "      index: 0\n",
       "    });\n",
       "  }\n",
       "\n",
       "  // register the mime type if in Jupyter Notebook environment and previously unregistered\n",
       "  if (root.Jupyter !== undefined) {\n",
       "    var events = require('base/js/events');\n",
       "    var OutputArea = require('notebook/js/outputarea').OutputArea;\n",
       "\n",
       "    if (OutputArea.prototype.mime_types().indexOf(EXEC_MIME_TYPE) == -1) {\n",
       "      register_renderer(events, OutputArea);\n",
       "    }\n",
       "  }\n",
       "\n",
       "  \n",
       "  if (typeof (root._bokeh_timeout) === \"undefined\" || force === true) {\n",
       "    root._bokeh_timeout = Date.now() + 5000;\n",
       "    root._bokeh_failed_load = false;\n",
       "  }\n",
       "\n",
       "  var NB_LOAD_WARNING = {'data': {'text/html':\n",
       "     \"<div style='background-color: #fdd'>\\n\"+\n",
       "     \"<p>\\n\"+\n",
       "     \"BokehJS does not appear to have successfully loaded. If loading BokehJS from CDN, this \\n\"+\n",
       "     \"may be due to a slow or bad network connection. Possible fixes:\\n\"+\n",
       "     \"</p>\\n\"+\n",
       "     \"<ul>\\n\"+\n",
       "     \"<li>re-rerun `output_notebook()` to attempt to load from CDN again, or</li>\\n\"+\n",
       "     \"<li>use INLINE resources instead, as so:</li>\\n\"+\n",
       "     \"</ul>\\n\"+\n",
       "     \"<code>\\n\"+\n",
       "     \"from bokeh.resources import INLINE\\n\"+\n",
       "     \"output_notebook(resources=INLINE)\\n\"+\n",
       "     \"</code>\\n\"+\n",
       "     \"</div>\"}};\n",
       "\n",
       "  function display_loaded() {\n",
       "    var el = document.getElementById(\"d327d5ca-04bc-48cb-81e5-f2f3c3fe8c3a\");\n",
       "    if (el != null) {\n",
       "      el.textContent = \"BokehJS is loading...\";\n",
       "    }\n",
       "    if (root.Bokeh !== undefined) {\n",
       "      if (el != null) {\n",
       "        el.textContent = \"BokehJS \" + root.Bokeh.version + \" successfully loaded.\";\n",
       "      }\n",
       "    } else if (Date.now() < root._bokeh_timeout) {\n",
       "      setTimeout(display_loaded, 100)\n",
       "    }\n",
       "  }\n",
       "\n",
       "\n",
       "  function run_callbacks() {\n",
       "    try {\n",
       "      root._bokeh_onload_callbacks.forEach(function(callback) { callback() });\n",
       "    }\n",
       "    finally {\n",
       "      delete root._bokeh_onload_callbacks\n",
       "    }\n",
       "    console.info(\"Bokeh: all callbacks have finished\");\n",
       "  }\n",
       "\n",
       "  function load_libs(js_urls, callback) {\n",
       "    root._bokeh_onload_callbacks.push(callback);\n",
       "    if (root._bokeh_is_loading > 0) {\n",
       "      console.log(\"Bokeh: BokehJS is being loaded, scheduling callback at\", now());\n",
       "      return null;\n",
       "    }\n",
       "    if (js_urls == null || js_urls.length === 0) {\n",
       "      run_callbacks();\n",
       "      return null;\n",
       "    }\n",
       "    console.log(\"Bokeh: BokehJS not loaded, scheduling load and callback at\", now());\n",
       "    root._bokeh_is_loading = js_urls.length;\n",
       "    for (var i = 0; i < js_urls.length; i++) {\n",
       "      var url = js_urls[i];\n",
       "      var s = document.createElement('script');\n",
       "      s.src = url;\n",
       "      s.async = false;\n",
       "      s.onreadystatechange = s.onload = function() {\n",
       "        root._bokeh_is_loading--;\n",
       "        if (root._bokeh_is_loading === 0) {\n",
       "          console.log(\"Bokeh: all BokehJS libraries loaded\");\n",
       "          run_callbacks()\n",
       "        }\n",
       "      };\n",
       "      s.onerror = function() {\n",
       "        console.warn(\"failed to load library \" + url);\n",
       "      };\n",
       "      console.log(\"Bokeh: injecting script tag for BokehJS library: \", url);\n",
       "      document.getElementsByTagName(\"head\")[0].appendChild(s);\n",
       "    }\n",
       "  };var element = document.getElementById(\"d327d5ca-04bc-48cb-81e5-f2f3c3fe8c3a\");\n",
       "  if (element == null) {\n",
       "    console.log(\"Bokeh: ERROR: autoload.js configured with elementid 'd327d5ca-04bc-48cb-81e5-f2f3c3fe8c3a' but no matching script tag was found. \")\n",
       "    return false;\n",
       "  }\n",
       "\n",
       "  var js_urls = [\"https://cdn.pydata.org/bokeh/release/bokeh-0.12.11.min.js\", \"https://cdn.pydata.org/bokeh/release/bokeh-widgets-0.12.11.min.js\", \"https://cdn.pydata.org/bokeh/release/bokeh-tables-0.12.11.min.js\", \"https://cdn.pydata.org/bokeh/release/bokeh-gl-0.12.11.min.js\"];\n",
       "\n",
       "  var inline_js = [\n",
       "    function(Bokeh) {\n",
       "      Bokeh.set_log_level(\"info\");\n",
       "    },\n",
       "    \n",
       "    function(Bokeh) {\n",
       "      \n",
       "    },\n",
       "    function(Bokeh) {\n",
       "      console.log(\"Bokeh: injecting CSS: https://cdn.pydata.org/bokeh/release/bokeh-0.12.11.min.css\");\n",
       "      Bokeh.embed.inject_css(\"https://cdn.pydata.org/bokeh/release/bokeh-0.12.11.min.css\");\n",
       "      console.log(\"Bokeh: injecting CSS: https://cdn.pydata.org/bokeh/release/bokeh-widgets-0.12.11.min.css\");\n",
       "      Bokeh.embed.inject_css(\"https://cdn.pydata.org/bokeh/release/bokeh-widgets-0.12.11.min.css\");\n",
       "      console.log(\"Bokeh: injecting CSS: https://cdn.pydata.org/bokeh/release/bokeh-tables-0.12.11.min.css\");\n",
       "      Bokeh.embed.inject_css(\"https://cdn.pydata.org/bokeh/release/bokeh-tables-0.12.11.min.css\");\n",
       "    }\n",
       "  ];\n",
       "\n",
       "  function run_inline_js() {\n",
       "    \n",
       "    if ((root.Bokeh !== undefined) || (force === true)) {\n",
       "      for (var i = 0; i < inline_js.length; i++) {\n",
       "        inline_js[i].call(root, root.Bokeh);\n",
       "      }if (force === true) {\n",
       "        display_loaded();\n",
       "      }} else if (Date.now() < root._bokeh_timeout) {\n",
       "      setTimeout(run_inline_js, 100);\n",
       "    } else if (!root._bokeh_failed_load) {\n",
       "      console.log(\"Bokeh: BokehJS failed to load within specified timeout.\");\n",
       "      root._bokeh_failed_load = true;\n",
       "    } else if (force !== true) {\n",
       "      var cell = $(document.getElementById(\"d327d5ca-04bc-48cb-81e5-f2f3c3fe8c3a\")).parents('.cell').data().cell;\n",
       "      cell.output_area.append_execute_result(NB_LOAD_WARNING)\n",
       "    }\n",
       "\n",
       "  }\n",
       "\n",
       "  if (root._bokeh_is_loading === 0) {\n",
       "    console.log(\"Bokeh: BokehJS loaded, going straight to plotting\");\n",
       "    run_inline_js();\n",
       "  } else {\n",
       "    load_libs(js_urls, function() {\n",
       "      console.log(\"Bokeh: BokehJS plotting callback run at\", now());\n",
       "      run_inline_js();\n",
       "    });\n",
       "  }\n",
       "}(window));"
      ],
      "application/vnd.bokehjs_load.v0+json": "\n(function(root) {\n  function now() {\n    return new Date();\n  }\n\n  var force = true;\n\n  if (typeof (root._bokeh_onload_callbacks) === \"undefined\" || force === true) {\n    root._bokeh_onload_callbacks = [];\n    root._bokeh_is_loading = undefined;\n  }\n\n  \n\n  \n  if (typeof (root._bokeh_timeout) === \"undefined\" || force === true) {\n    root._bokeh_timeout = Date.now() + 5000;\n    root._bokeh_failed_load = false;\n  }\n\n  var NB_LOAD_WARNING = {'data': {'text/html':\n     \"<div style='background-color: #fdd'>\\n\"+\n     \"<p>\\n\"+\n     \"BokehJS does not appear to have successfully loaded. If loading BokehJS from CDN, this \\n\"+\n     \"may be due to a slow or bad network connection. Possible fixes:\\n\"+\n     \"</p>\\n\"+\n     \"<ul>\\n\"+\n     \"<li>re-rerun `output_notebook()` to attempt to load from CDN again, or</li>\\n\"+\n     \"<li>use INLINE resources instead, as so:</li>\\n\"+\n     \"</ul>\\n\"+\n     \"<code>\\n\"+\n     \"from bokeh.resources import INLINE\\n\"+\n     \"output_notebook(resources=INLINE)\\n\"+\n     \"</code>\\n\"+\n     \"</div>\"}};\n\n  function display_loaded() {\n    var el = document.getElementById(\"d327d5ca-04bc-48cb-81e5-f2f3c3fe8c3a\");\n    if (el != null) {\n      el.textContent = \"BokehJS is loading...\";\n    }\n    if (root.Bokeh !== undefined) {\n      if (el != null) {\n        el.textContent = \"BokehJS \" + root.Bokeh.version + \" successfully loaded.\";\n      }\n    } else if (Date.now() < root._bokeh_timeout) {\n      setTimeout(display_loaded, 100)\n    }\n  }\n\n\n  function run_callbacks() {\n    try {\n      root._bokeh_onload_callbacks.forEach(function(callback) { callback() });\n    }\n    finally {\n      delete root._bokeh_onload_callbacks\n    }\n    console.info(\"Bokeh: all callbacks have finished\");\n  }\n\n  function load_libs(js_urls, callback) {\n    root._bokeh_onload_callbacks.push(callback);\n    if (root._bokeh_is_loading > 0) {\n      console.log(\"Bokeh: BokehJS is being loaded, scheduling callback at\", now());\n      return null;\n    }\n    if (js_urls == null || js_urls.length === 0) {\n      run_callbacks();\n      return null;\n    }\n    console.log(\"Bokeh: BokehJS not loaded, scheduling load and callback at\", now());\n    root._bokeh_is_loading = js_urls.length;\n    for (var i = 0; i < js_urls.length; i++) {\n      var url = js_urls[i];\n      var s = document.createElement('script');\n      s.src = url;\n      s.async = false;\n      s.onreadystatechange = s.onload = function() {\n        root._bokeh_is_loading--;\n        if (root._bokeh_is_loading === 0) {\n          console.log(\"Bokeh: all BokehJS libraries loaded\");\n          run_callbacks()\n        }\n      };\n      s.onerror = function() {\n        console.warn(\"failed to load library \" + url);\n      };\n      console.log(\"Bokeh: injecting script tag for BokehJS library: \", url);\n      document.getElementsByTagName(\"head\")[0].appendChild(s);\n    }\n  };var element = document.getElementById(\"d327d5ca-04bc-48cb-81e5-f2f3c3fe8c3a\");\n  if (element == null) {\n    console.log(\"Bokeh: ERROR: autoload.js configured with elementid 'd327d5ca-04bc-48cb-81e5-f2f3c3fe8c3a' but no matching script tag was found. \")\n    return false;\n  }\n\n  var js_urls = [\"https://cdn.pydata.org/bokeh/release/bokeh-0.12.11.min.js\", \"https://cdn.pydata.org/bokeh/release/bokeh-widgets-0.12.11.min.js\", \"https://cdn.pydata.org/bokeh/release/bokeh-tables-0.12.11.min.js\", \"https://cdn.pydata.org/bokeh/release/bokeh-gl-0.12.11.min.js\"];\n\n  var inline_js = [\n    function(Bokeh) {\n      Bokeh.set_log_level(\"info\");\n    },\n    \n    function(Bokeh) {\n      \n    },\n    function(Bokeh) {\n      console.log(\"Bokeh: injecting CSS: https://cdn.pydata.org/bokeh/release/bokeh-0.12.11.min.css\");\n      Bokeh.embed.inject_css(\"https://cdn.pydata.org/bokeh/release/bokeh-0.12.11.min.css\");\n      console.log(\"Bokeh: injecting CSS: https://cdn.pydata.org/bokeh/release/bokeh-widgets-0.12.11.min.css\");\n      Bokeh.embed.inject_css(\"https://cdn.pydata.org/bokeh/release/bokeh-widgets-0.12.11.min.css\");\n      console.log(\"Bokeh: injecting CSS: https://cdn.pydata.org/bokeh/release/bokeh-tables-0.12.11.min.css\");\n      Bokeh.embed.inject_css(\"https://cdn.pydata.org/bokeh/release/bokeh-tables-0.12.11.min.css\");\n    }\n  ];\n\n  function run_inline_js() {\n    \n    if ((root.Bokeh !== undefined) || (force === true)) {\n      for (var i = 0; i < inline_js.length; i++) {\n        inline_js[i].call(root, root.Bokeh);\n      }if (force === true) {\n        display_loaded();\n      }} else if (Date.now() < root._bokeh_timeout) {\n      setTimeout(run_inline_js, 100);\n    } else if (!root._bokeh_failed_load) {\n      console.log(\"Bokeh: BokehJS failed to load within specified timeout.\");\n      root._bokeh_failed_load = true;\n    } else if (force !== true) {\n      var cell = $(document.getElementById(\"d327d5ca-04bc-48cb-81e5-f2f3c3fe8c3a\")).parents('.cell').data().cell;\n      cell.output_area.append_execute_result(NB_LOAD_WARNING)\n    }\n\n  }\n\n  if (root._bokeh_is_loading === 0) {\n    console.log(\"Bokeh: BokehJS loaded, going straight to plotting\");\n    run_inline_js();\n  } else {\n    load_libs(js_urls, function() {\n      console.log(\"Bokeh: BokehJS plotting callback run at\", now());\n      run_inline_js();\n    });\n  }\n}(window));"
     },
     "metadata": {},
     "output_type": "display_data"
    }
   ],
   "source": [
    "# Ahora llamaremos algunas librerias de bokeh que nos ayudaran a presentar nuestros graficos\n",
    "from bokeh.io import output_notebook, output_file\n",
    "output_notebook()"
   ]
  },
  {
   "cell_type": "code",
   "execution_count": 30,
   "metadata": {},
   "outputs": [],
   "source": [
    "from bokeh.io import show\n",
    "from bokeh.plotting import figure"
   ]
  },
  {
   "cell_type": "code",
   "execution_count": 31,
   "metadata": {},
   "outputs": [
    {
     "ename": "NameError",
     "evalue": "name 'tabla1' is not defined",
     "output_type": "error",
     "traceback": [
      "\u001b[0;31m---------------------------------------------------------------------------\u001b[0m",
      "\u001b[0;31mNameError\u001b[0m                                 Traceback (most recent call last)",
      "\u001b[0;32m<ipython-input-31-0e39a8e3256f>\u001b[0m in \u001b[0;36m<module>\u001b[0;34m()\u001b[0m\n\u001b[1;32m      1\u001b[0m \u001b[0;31m# con ayuda de .iloc podemos recorrer el indice de cada dato asi podemos llamar solo a los que necesitamos\u001b[0m\u001b[0;34m\u001b[0m\u001b[0;34m\u001b[0m\u001b[0m\n\u001b[1;32m      2\u001b[0m \u001b[0;31m# en esta ocacion llamaremos solo a las 4 provincias mas pobladas del ecuador en 2010\u001b[0m\u001b[0;34m\u001b[0m\u001b[0;34m\u001b[0m\u001b[0m\n\u001b[0;32m----> 3\u001b[0;31m \u001b[0mtabla1\u001b[0m\u001b[0;34m.\u001b[0m \u001b[0miloc\u001b[0m \u001b[0;34m[\u001b[0m\u001b[0;34m[\u001b[0m \u001b[0;36m749\u001b[0m \u001b[0;34m,\u001b[0m  \u001b[0;36m847\u001b[0m \u001b[0;34m,\u001b[0m  \u001b[0;36m550\u001b[0m\u001b[0;34m,\u001b[0m\u001b[0;36m1042\u001b[0m \u001b[0;34m]\u001b[0m\u001b[0;34m,\u001b[0m  \u001b[0;34m[\u001b[0m\u001b[0;36m0\u001b[0m\u001b[0;34m,\u001b[0m \u001b[0;36m1\u001b[0m\u001b[0;34m,\u001b[0m\u001b[0;36m3\u001b[0m\u001b[0;34m,\u001b[0m\u001b[0;36m4\u001b[0m \u001b[0;34m]\u001b[0m\u001b[0;34m]\u001b[0m\u001b[0;34m\u001b[0m\u001b[0m\n\u001b[0m",
      "\u001b[0;31mNameError\u001b[0m: name 'tabla1' is not defined"
     ]
    }
   ],
   "source": [
    "# con ayuda de .iloc podemos recorrer el indice de cada dato asi podemos llamar solo a los que necesitamos\n",
    "# en esta ocacion llamaremos solo a las 4 provincias mas pobladas del ecuador en 2010\n",
    "tabla1. iloc [[ 749 ,  847 ,  550,1042 ],  [0, 1,3,4 ]] "
   ]
  },
  {
   "cell_type": "code",
   "execution_count": 32,
   "metadata": {},
   "outputs": [
    {
     "data": {
      "text/html": [
       "\n",
       "<div class=\"bk-root\">\n",
       "    <div class=\"bk-plotdiv\" id=\"38498bb4-956d-4f6a-b59a-7da179a5cba8\"></div>\n",
       "</div>"
      ]
     },
     "metadata": {},
     "output_type": "display_data"
    },
    {
     "data": {
      "application/javascript": [
       "(function(root) {\n",
       "  function embed_document(root) {\n",
       "    var docs_json = {\"b2dc4ce8-7af3-4833-9c15-dbcee30e471b\":{\"roots\":{\"references\":[{\"attributes\":{},\"id\":\"0aeb813a-5073-444e-955a-b9958775ed9c\",\"type\":\"CategoricalTicker\"},{\"attributes\":{},\"id\":\"ffa5fb08-8653-4f6e-bddf-b61e9e967e25\",\"type\":\"CategoricalScale\"},{\"attributes\":{\"grid_line_color\":{\"value\":null},\"plot\":{\"id\":\"a6b7d215-bae8-45dc-bdd2-ae2e3d5ab184\",\"subtype\":\"Figure\",\"type\":\"Plot\"},\"ticker\":{\"id\":\"0aeb813a-5073-444e-955a-b9958775ed9c\",\"type\":\"CategoricalTicker\"}},\"id\":\"0a18d2fd-6902-4bff-9814-644ee4d4868e\",\"type\":\"Grid\"},{\"attributes\":{\"source\":{\"id\":\"13e5d24a-3d1b-464d-95f8-4ca83b4da874\",\"type\":\"ColumnDataSource\"}},\"id\":\"7ab622f1-dfbe-4e18-a16e-462b46c50a75\",\"type\":\"CDSView\"},{\"attributes\":{\"range\":{\"id\":\"12a6c058-6d48-41bc-813e-188ecb2aae8e\",\"type\":\"FactorRange\"},\"value\":-0.25},\"id\":\"f0af5480-5dcd-4064-9d22-23b0b0383c16\",\"type\":\"Dodge\"},{\"attributes\":{\"below\":[{\"id\":\"0032dffa-81ae-469a-8592-d6c70b344484\",\"type\":\"CategoricalAxis\"}],\"left\":[{\"id\":\"0b0b7180-4ce2-47b1-a26a-1f81f2addae6\",\"type\":\"LinearAxis\"}],\"plot_height\":350,\"renderers\":[{\"id\":\"0032dffa-81ae-469a-8592-d6c70b344484\",\"type\":\"CategoricalAxis\"},{\"id\":\"0a18d2fd-6902-4bff-9814-644ee4d4868e\",\"type\":\"Grid\"},{\"id\":\"0b0b7180-4ce2-47b1-a26a-1f81f2addae6\",\"type\":\"LinearAxis\"},{\"id\":\"aaa4e8b8-5e34-4300-ad65-8a1b343f4907\",\"type\":\"Grid\"},{\"id\":\"28605d93-e1a6-4c86-af2d-9d2f7b7eeed6\",\"type\":\"Legend\"},{\"id\":\"a5d324d9-2776-41d0-8feb-0c9fb5a21645\",\"type\":\"GlyphRenderer\"},{\"id\":\"44c3a787-860f-4305-a68a-d0073b223e63\",\"type\":\"GlyphRenderer\"}],\"title\":{\"id\":\"5a8722a0-84ba-40ed-ba11-adc7104b8645\",\"type\":\"Title\"},\"toolbar\":{\"id\":\"0b8416aa-7994-4e7d-95ba-97bd842ed401\",\"type\":\"Toolbar\"},\"toolbar_location\":null,\"x_range\":{\"id\":\"12a6c058-6d48-41bc-813e-188ecb2aae8e\",\"type\":\"FactorRange\"},\"x_scale\":{\"id\":\"ffa5fb08-8653-4f6e-bddf-b61e9e967e25\",\"type\":\"CategoricalScale\"},\"y_range\":{\"id\":\"9daf6059-e5ae-437a-80b7-254d3951ffcf\",\"type\":\"Range1d\"},\"y_scale\":{\"id\":\"417a5890-57ee-48d3-9b5b-4f76746929fc\",\"type\":\"LinearScale\"}},\"id\":\"a6b7d215-bae8-45dc-bdd2-ae2e3d5ab184\",\"subtype\":\"Figure\",\"type\":\"Plot\"},{\"attributes\":{\"fill_color\":{\"value\":\"#c9d9d3\"},\"line_color\":{\"value\":\"#c9d9d3\"},\"top\":{\"field\":\"Hombres\"},\"width\":{\"value\":0.2},\"x\":{\"field\":\"capital\",\"transform\":{\"id\":\"f0af5480-5dcd-4064-9d22-23b0b0383c16\",\"type\":\"Dodge\"}}},\"id\":\"cc8cfef0-d7f1-498e-bc8f-7d0a183e73ba\",\"type\":\"VBar\"},{\"attributes\":{\"callback\":null,\"factors\":[\"guayaquil\",\"Pichincha\",\"Los rios\",\"Manabi\"],\"range_padding\":0.1},\"id\":\"12a6c058-6d48-41bc-813e-188ecb2aae8e\",\"type\":\"FactorRange\"},{\"attributes\":{\"label\":{\"value\":\"H\"},\"renderers\":[{\"id\":\"a5d324d9-2776-41d0-8feb-0c9fb5a21645\",\"type\":\"GlyphRenderer\"}]},\"id\":\"b5d04eb9-1870-4868-b8f5-c30ee731af7e\",\"type\":\"LegendItem\"},{\"attributes\":{\"active_drag\":\"auto\",\"active_inspect\":\"auto\",\"active_scroll\":\"auto\",\"active_tap\":\"auto\"},\"id\":\"0b8416aa-7994-4e7d-95ba-97bd842ed401\",\"type\":\"Toolbar\"},{\"attributes\":{\"dimension\":1,\"plot\":{\"id\":\"a6b7d215-bae8-45dc-bdd2-ae2e3d5ab184\",\"subtype\":\"Figure\",\"type\":\"Plot\"},\"ticker\":{\"id\":\"07a493a7-7d46-4b87-9c64-e9e0216f5272\",\"type\":\"BasicTicker\"}},\"id\":\"aaa4e8b8-5e34-4300-ad65-8a1b343f4907\",\"type\":\"Grid\"},{\"attributes\":{},\"id\":\"0c6d441e-fd4e-4c42-8ded-d1aa52746310\",\"type\":\"BasicTickFormatter\"},{\"attributes\":{\"fill_alpha\":{\"value\":0.1},\"fill_color\":{\"value\":\"#1f77b4\"},\"line_alpha\":{\"value\":0.1},\"line_color\":{\"value\":\"#1f77b4\"},\"top\":{\"field\":\"Hombres\"},\"width\":{\"value\":0.2},\"x\":{\"field\":\"capital\",\"transform\":{\"id\":\"f0af5480-5dcd-4064-9d22-23b0b0383c16\",\"type\":\"Dodge\"}}},\"id\":\"e6235e33-ebf1-4130-8a6f-cad31fd12a9c\",\"type\":\"VBar\"},{\"attributes\":{\"callback\":null,\"column_names\":[\"Hombres\",\"capital\",\"Mujeres\"],\"data\":{\"Hombres\":[1815914,1255711,398099,689299],\"Mujeres\":[1829569,1320576,380016,680481],\"capital\":[\"guayaquil\",\"Pichincha\",\"Los rios\",\"Manabi\"]}},\"id\":\"13e5d24a-3d1b-464d-95f8-4ca83b4da874\",\"type\":\"ColumnDataSource\"},{\"attributes\":{\"range\":{\"id\":\"12a6c058-6d48-41bc-813e-188ecb2aae8e\",\"type\":\"FactorRange\"}},\"id\":\"22ae9661-6ad9-4629-affb-c22a20bb09be\",\"type\":\"Dodge\"},{\"attributes\":{\"data_source\":{\"id\":\"13e5d24a-3d1b-464d-95f8-4ca83b4da874\",\"type\":\"ColumnDataSource\"},\"glyph\":{\"id\":\"cc8cfef0-d7f1-498e-bc8f-7d0a183e73ba\",\"type\":\"VBar\"},\"hover_glyph\":null,\"muted_glyph\":null,\"nonselection_glyph\":{\"id\":\"e6235e33-ebf1-4130-8a6f-cad31fd12a9c\",\"type\":\"VBar\"},\"selection_glyph\":null,\"view\":{\"id\":\"3f578c07-c9df-4736-a78d-b91abbb9f48d\",\"type\":\"CDSView\"}},\"id\":\"a5d324d9-2776-41d0-8feb-0c9fb5a21645\",\"type\":\"GlyphRenderer\"},{\"attributes\":{\"plot\":null,\"text\":\"Censo de las provincias mas grandes\"},\"id\":\"5a8722a0-84ba-40ed-ba11-adc7104b8645\",\"type\":\"Title\"},{\"attributes\":{},\"id\":\"07a493a7-7d46-4b87-9c64-e9e0216f5272\",\"type\":\"BasicTicker\"},{\"attributes\":{\"data_source\":{\"id\":\"13e5d24a-3d1b-464d-95f8-4ca83b4da874\",\"type\":\"ColumnDataSource\"},\"glyph\":{\"id\":\"f31063df-4498-4aee-bd64-2d7793901cf4\",\"type\":\"VBar\"},\"hover_glyph\":null,\"muted_glyph\":null,\"nonselection_glyph\":{\"id\":\"d7df9362-1681-45fb-ac33-3a2391a264dd\",\"type\":\"VBar\"},\"selection_glyph\":null,\"view\":{\"id\":\"7ab622f1-dfbe-4e18-a16e-462b46c50a75\",\"type\":\"CDSView\"}},\"id\":\"44c3a787-860f-4305-a68a-d0073b223e63\",\"type\":\"GlyphRenderer\"},{\"attributes\":{\"fill_alpha\":{\"value\":0.1},\"fill_color\":{\"value\":\"#1f77b4\"},\"line_alpha\":{\"value\":0.1},\"line_color\":{\"value\":\"#1f77b4\"},\"top\":{\"field\":\"Mujeres\"},\"width\":{\"value\":0.2},\"x\":{\"field\":\"capital\",\"transform\":{\"id\":\"22ae9661-6ad9-4629-affb-c22a20bb09be\",\"type\":\"Dodge\"}}},\"id\":\"d7df9362-1681-45fb-ac33-3a2391a264dd\",\"type\":\"VBar\"},{\"attributes\":{},\"id\":\"1f727110-6cc8-4bc6-827a-172e618e3c36\",\"type\":\"CategoricalTickFormatter\"},{\"attributes\":{\"fill_color\":{\"value\":\"#718dbf\"},\"line_color\":{\"value\":\"#718dbf\"},\"top\":{\"field\":\"Mujeres\"},\"width\":{\"value\":0.2},\"x\":{\"field\":\"capital\",\"transform\":{\"id\":\"22ae9661-6ad9-4629-affb-c22a20bb09be\",\"type\":\"Dodge\"}}},\"id\":\"f31063df-4498-4aee-bd64-2d7793901cf4\",\"type\":\"VBar\"},{\"attributes\":{\"label\":{\"value\":\"M\"},\"renderers\":[{\"id\":\"44c3a787-860f-4305-a68a-d0073b223e63\",\"type\":\"GlyphRenderer\"}]},\"id\":\"346629ec-f34f-496c-8fa4-e8c648c66a01\",\"type\":\"LegendItem\"},{\"attributes\":{\"callback\":null,\"end\":2000000},\"id\":\"9daf6059-e5ae-437a-80b7-254d3951ffcf\",\"type\":\"Range1d\"},{\"attributes\":{\"source\":{\"id\":\"13e5d24a-3d1b-464d-95f8-4ca83b4da874\",\"type\":\"ColumnDataSource\"}},\"id\":\"3f578c07-c9df-4736-a78d-b91abbb9f48d\",\"type\":\"CDSView\"},{\"attributes\":{\"formatter\":{\"id\":\"0c6d441e-fd4e-4c42-8ded-d1aa52746310\",\"type\":\"BasicTickFormatter\"},\"plot\":{\"id\":\"a6b7d215-bae8-45dc-bdd2-ae2e3d5ab184\",\"subtype\":\"Figure\",\"type\":\"Plot\"},\"ticker\":{\"id\":\"07a493a7-7d46-4b87-9c64-e9e0216f5272\",\"type\":\"BasicTicker\"}},\"id\":\"0b0b7180-4ce2-47b1-a26a-1f81f2addae6\",\"type\":\"LinearAxis\"},{\"attributes\":{},\"id\":\"417a5890-57ee-48d3-9b5b-4f76746929fc\",\"type\":\"LinearScale\"},{\"attributes\":{\"formatter\":{\"id\":\"1f727110-6cc8-4bc6-827a-172e618e3c36\",\"type\":\"CategoricalTickFormatter\"},\"plot\":{\"id\":\"a6b7d215-bae8-45dc-bdd2-ae2e3d5ab184\",\"subtype\":\"Figure\",\"type\":\"Plot\"},\"ticker\":{\"id\":\"0aeb813a-5073-444e-955a-b9958775ed9c\",\"type\":\"CategoricalTicker\"}},\"id\":\"0032dffa-81ae-469a-8592-d6c70b344484\",\"type\":\"CategoricalAxis\"},{\"attributes\":{\"items\":[{\"id\":\"b5d04eb9-1870-4868-b8f5-c30ee731af7e\",\"type\":\"LegendItem\"},{\"id\":\"346629ec-f34f-496c-8fa4-e8c648c66a01\",\"type\":\"LegendItem\"}],\"location\":\"top_left\",\"orientation\":\"horizontal\",\"plot\":{\"id\":\"a6b7d215-bae8-45dc-bdd2-ae2e3d5ab184\",\"subtype\":\"Figure\",\"type\":\"Plot\"}},\"id\":\"28605d93-e1a6-4c86-af2d-9d2f7b7eeed6\",\"type\":\"Legend\"}],\"root_ids\":[\"a6b7d215-bae8-45dc-bdd2-ae2e3d5ab184\"]},\"title\":\"Bokeh Application\",\"version\":\"0.12.11\"}};\n",
       "    var render_items = [{\"docid\":\"b2dc4ce8-7af3-4833-9c15-dbcee30e471b\",\"elementid\":\"38498bb4-956d-4f6a-b59a-7da179a5cba8\",\"modelid\":\"a6b7d215-bae8-45dc-bdd2-ae2e3d5ab184\"}];\n",
       "    root.Bokeh.embed.embed_items(docs_json, render_items);\n",
       "  }\n",
       "  if (root.Bokeh !== undefined) {\n",
       "    embed_document(root);\n",
       "  } else {\n",
       "    var attempts = 0;\n",
       "    var timer = setInterval(function(root) {\n",
       "      if (root.Bokeh !== undefined) {\n",
       "        embed_document(root);\n",
       "        clearInterval(timer);\n",
       "      }\n",
       "      attempts++;\n",
       "      if (attempts > 100) {\n",
       "        console.log(\"Bokeh: ERROR: Unable to embed document because BokehJS library is missing\")\n",
       "        clearInterval(timer);\n",
       "      }\n",
       "    }, 10, root)\n",
       "  }\n",
       "})(window);"
      ],
      "application/vnd.bokehjs_exec.v0+json": ""
     },
     "metadata": {
      "application/vnd.bokehjs_exec.v0+json": {
       "id": "a6b7d215-bae8-45dc-bdd2-ae2e3d5ab184"
      }
     },
     "output_type": "display_data"
    }
   ],
   "source": [
    "# con ayuda de bokeh podemos obtener varios tipos de graficos\n",
    "# https://bokeh.pydata.org/en/latest/docs/gallery.html\n",
    "# En esta ocasion utilizaremos un grafico de barras para presentar la poblacion de hombres y mujeres\n",
    "from bokeh.core.properties import value\n",
    "from bokeh.models import ColumnDataSource\n",
    "from bokeh.transform import dodge\n",
    "\n",
    "output_file('Maspobladas.html')\n",
    "\n",
    "provincias = ['guayaquil', 'Pichincha', 'Los rios', 'Manabi']\n",
    "names = ['Hombres', 'Mujeres']\n",
    "\n",
    "data = {'capital' : provincias,\n",
    "        'Hombres'   : [1815914, 1255711, 398099, 689299],\n",
    "        'Mujeres'   : [1829569, 1320576, 380016, 680481]}\n",
    "\n",
    "source = ColumnDataSource(data=data)\n",
    "\n",
    "p = figure(x_range=provincias, y_range=(0, 2000000), plot_height=350, title=\"Censo de las provincias mas grandes\",\n",
    "           toolbar_location=None, tools=\"\")\n",
    "\n",
    "p.vbar(x=dodge('capital', -0.25, range=p.x_range), top='Hombres', width=0.2, source=source,\n",
    "       color=\"#c9d9d3\", legend=value(\"H\"))\n",
    "\n",
    "p.vbar(x=dodge('capital',  0.0,  range=p.x_range), top='Mujeres', width=0.2, source=source,\n",
    "       color=\"#718dbf\", legend=value(\"M\"))\n",
    "\n",
    "p.x_range.range_padding = 0.1\n",
    "p.xgrid.grid_line_color = None\n",
    "p.legend.location = \"top_left\"\n",
    "p.legend.orientation = \"horizontal\"\n",
    "\n",
    "show(p)"
   ]
  },
  {
   "cell_type": "code",
   "execution_count": 33,
   "metadata": {},
   "outputs": [
    {
     "ename": "NameError",
     "evalue": "name 'tabla1' is not defined",
     "output_type": "error",
     "traceback": [
      "\u001b[0;31m---------------------------------------------------------------------------\u001b[0m",
      "\u001b[0;31mNameError\u001b[0m                                 Traceback (most recent call last)",
      "\u001b[0;32m<ipython-input-33-40aa8f60c7e5>\u001b[0m in \u001b[0;36m<module>\u001b[0;34m()\u001b[0m\n\u001b[1;32m      1\u001b[0m \u001b[0;31m# con ayuda de .iloc podemos recorrer el indice de cada dato asi podemos llamar solo a los que necesitamos\u001b[0m\u001b[0;34m\u001b[0m\u001b[0;34m\u001b[0m\u001b[0m\n\u001b[1;32m      2\u001b[0m \u001b[0;31m# en esta ocacion llamaremos solo a las 4 provincias menos pobladas del ecuador en 2010\u001b[0m\u001b[0;34m\u001b[0m\u001b[0;34m\u001b[0m\u001b[0m\n\u001b[0;32m----> 3\u001b[0;31m \u001b[0mtabla1\u001b[0m\u001b[0;34m.\u001b[0m \u001b[0miloc\u001b[0m \u001b[0;34m[\u001b[0m\u001b[0;34m[\u001b[0m \u001b[0;36m947\u001b[0m \u001b[0;34m,\u001b[0m  \u001b[0;36m973\u001b[0m \u001b[0;34m,\u001b[0m  \u001b[0;36m1162\u001b[0m\u001b[0;34m,\u001b[0m\u001b[0;36m1150\u001b[0m \u001b[0;34m]\u001b[0m\u001b[0;34m,\u001b[0m  \u001b[0;34m[\u001b[0m\u001b[0;36m0\u001b[0m\u001b[0;34m,\u001b[0m \u001b[0;36m1\u001b[0m\u001b[0;34m,\u001b[0m\u001b[0;36m3\u001b[0m\u001b[0;34m,\u001b[0m\u001b[0;36m4\u001b[0m \u001b[0;34m]\u001b[0m\u001b[0;34m]\u001b[0m\u001b[0;34m\u001b[0m\u001b[0m\n\u001b[0m",
      "\u001b[0;31mNameError\u001b[0m: name 'tabla1' is not defined"
     ]
    }
   ],
   "source": [
    "# con ayuda de .iloc podemos recorrer el indice de cada dato asi podemos llamar solo a los que necesitamos\n",
    "# en esta ocacion llamaremos solo a las 4 provincias menos pobladas del ecuador en 2010\n",
    "tabla1. iloc [[ 947 ,  973 ,  1162,1150 ],  [0, 1,3,4 ]] "
   ]
  },
  {
   "cell_type": "code",
   "execution_count": 34,
   "metadata": {},
   "outputs": [
    {
     "data": {
      "text/html": [
       "\n",
       "<div class=\"bk-root\">\n",
       "    <div class=\"bk-plotdiv\" id=\"32df344e-501d-45fe-b300-21cd46f69aa0\"></div>\n",
       "</div>"
      ]
     },
     "metadata": {},
     "output_type": "display_data"
    },
    {
     "data": {
      "application/javascript": [
       "(function(root) {\n",
       "  function embed_document(root) {\n",
       "    var docs_json = {\"cb4f6295-6ce1-40b9-b5a7-2a3e9a2c701b\":{\"roots\":{\"references\":[{\"attributes\":{\"plot\":null,\"text\":\"Censo de las provincias mas peque\\u00f1as\"},\"id\":\"a5fed2a8-1090-486b-ad73-3328bedd70da\",\"type\":\"Title\"},{\"attributes\":{\"fill_color\":{\"value\":\"#00FFFF\"},\"line_color\":{\"value\":\"#00FFFF\"},\"top\":{\"field\":\"Hombres\"},\"width\":{\"value\":0.2},\"x\":{\"field\":\"capital\",\"transform\":{\"id\":\"db60ceb5-7b91-436c-915a-30c0dd34076a\",\"type\":\"Dodge\"}}},\"id\":\"ad6cc36b-44f4-4859-a1c2-d01271cd982e\",\"type\":\"VBar\"},{\"attributes\":{},\"id\":\"2a0603ee-97bf-43b5-a325-57ca833e139e\",\"type\":\"LinearScale\"},{\"attributes\":{\"range\":{\"id\":\"584c5dcf-4afa-4810-9fff-62a34dd1a80d\",\"type\":\"FactorRange\"}},\"id\":\"5fcef647-ae0d-49eb-9c82-94442ad884c4\",\"type\":\"Dodge\"},{\"attributes\":{\"formatter\":{\"id\":\"d50dce89-c6d0-42f4-84ba-60e42a2c0ad0\",\"type\":\"BasicTickFormatter\"},\"plot\":{\"id\":\"70c51334-2004-4ad1-b8e6-993702e8f0ca\",\"subtype\":\"Figure\",\"type\":\"Plot\"},\"ticker\":{\"id\":\"27692767-c03e-48bf-aabc-7a76420b2dbc\",\"type\":\"BasicTicker\"}},\"id\":\"e964fed4-9b92-4a86-bff5-8cf8b1ba26ca\",\"type\":\"LinearAxis\"},{\"attributes\":{\"active_drag\":\"auto\",\"active_inspect\":\"auto\",\"active_scroll\":\"auto\",\"active_tap\":\"auto\"},\"id\":\"763384aa-7e8a-45eb-aa62-b268cdb8c660\",\"type\":\"Toolbar\"},{\"attributes\":{\"range\":{\"id\":\"584c5dcf-4afa-4810-9fff-62a34dd1a80d\",\"type\":\"FactorRange\"},\"value\":-0.25},\"id\":\"db60ceb5-7b91-436c-915a-30c0dd34076a\",\"type\":\"Dodge\"},{\"attributes\":{\"formatter\":{\"id\":\"85f80f8b-e32d-453d-a66c-34ccacd17cdc\",\"type\":\"CategoricalTickFormatter\"},\"plot\":{\"id\":\"70c51334-2004-4ad1-b8e6-993702e8f0ca\",\"subtype\":\"Figure\",\"type\":\"Plot\"},\"ticker\":{\"id\":\"05d18379-a312-4fa0-adca-4521a903c7d7\",\"type\":\"CategoricalTicker\"}},\"id\":\"bf86c82b-63fe-45fd-b893-9a9da4317862\",\"type\":\"CategoricalAxis\"},{\"attributes\":{\"callback\":null,\"factors\":[\"Napo\",\"Pastaza\",\"Galapagos\",\"Zamora Chinchipe\"],\"range_padding\":0.1},\"id\":\"584c5dcf-4afa-4810-9fff-62a34dd1a80d\",\"type\":\"FactorRange\"},{\"attributes\":{\"label\":{\"value\":\"M\"},\"renderers\":[{\"id\":\"b7e56785-17bf-44d1-ae33-ff9a95f8769b\",\"type\":\"GlyphRenderer\"}]},\"id\":\"0538ffed-9a4d-413e-a0ab-deed98ad5bda\",\"type\":\"LegendItem\"},{\"attributes\":{\"callback\":null,\"end\":80000},\"id\":\"878d0277-3231-4a33-a5ba-ca6a5d4b63b5\",\"type\":\"Range1d\"},{\"attributes\":{},\"id\":\"05d18379-a312-4fa0-adca-4521a903c7d7\",\"type\":\"CategoricalTicker\"},{\"attributes\":{\"label\":{\"value\":\"H\"},\"renderers\":[{\"id\":\"64800b8b-97df-427c-ae3e-1b2ea728423e\",\"type\":\"GlyphRenderer\"}]},\"id\":\"a9ca589b-6b1d-4715-b34b-0b349bf68850\",\"type\":\"LegendItem\"},{\"attributes\":{\"items\":[{\"id\":\"a9ca589b-6b1d-4715-b34b-0b349bf68850\",\"type\":\"LegendItem\"},{\"id\":\"0538ffed-9a4d-413e-a0ab-deed98ad5bda\",\"type\":\"LegendItem\"}],\"location\":\"top_left\",\"orientation\":\"horizontal\",\"plot\":{\"id\":\"70c51334-2004-4ad1-b8e6-993702e8f0ca\",\"subtype\":\"Figure\",\"type\":\"Plot\"}},\"id\":\"f304c41f-0652-4e85-be4a-1c4e6056bbb6\",\"type\":\"Legend\"},{\"attributes\":{\"callback\":null,\"column_names\":[\"Hombres\",\"capital\",\"Mujeres\"],\"data\":{\"Hombres\":[52774,42260,13021,47452],\"Mujeres\":[50923,41673,12103,43924],\"capital\":[\"Napo\",\"Pastaza\",\"Galapagos\",\"Zamora Chinchipe\"]}},\"id\":\"542294f3-87e4-467f-8492-8b5d9340008b\",\"type\":\"ColumnDataSource\"},{\"attributes\":{\"fill_color\":{\"value\":\"#E5D512\"},\"line_color\":{\"value\":\"#E5D512\"},\"top\":{\"field\":\"Mujeres\"},\"width\":{\"value\":0.2},\"x\":{\"field\":\"capital\",\"transform\":{\"id\":\"5fcef647-ae0d-49eb-9c82-94442ad884c4\",\"type\":\"Dodge\"}}},\"id\":\"8fa82633-1f6f-4138-a631-c28f7d5ecdd8\",\"type\":\"VBar\"},{\"attributes\":{\"data_source\":{\"id\":\"542294f3-87e4-467f-8492-8b5d9340008b\",\"type\":\"ColumnDataSource\"},\"glyph\":{\"id\":\"8fa82633-1f6f-4138-a631-c28f7d5ecdd8\",\"type\":\"VBar\"},\"hover_glyph\":null,\"muted_glyph\":null,\"nonselection_glyph\":{\"id\":\"ffb7f19d-f9fe-4ab4-aa21-ea7e65c7b807\",\"type\":\"VBar\"},\"selection_glyph\":null,\"view\":{\"id\":\"a37d258e-b4b3-48e7-8c67-a1ce5ef17922\",\"type\":\"CDSView\"}},\"id\":\"b7e56785-17bf-44d1-ae33-ff9a95f8769b\",\"type\":\"GlyphRenderer\"},{\"attributes\":{\"below\":[{\"id\":\"bf86c82b-63fe-45fd-b893-9a9da4317862\",\"type\":\"CategoricalAxis\"}],\"left\":[{\"id\":\"e964fed4-9b92-4a86-bff5-8cf8b1ba26ca\",\"type\":\"LinearAxis\"}],\"plot_height\":350,\"renderers\":[{\"id\":\"bf86c82b-63fe-45fd-b893-9a9da4317862\",\"type\":\"CategoricalAxis\"},{\"id\":\"90598c7f-e102-45dc-b2f1-3d99c6588929\",\"type\":\"Grid\"},{\"id\":\"e964fed4-9b92-4a86-bff5-8cf8b1ba26ca\",\"type\":\"LinearAxis\"},{\"id\":\"d9fb819b-e124-4fae-8209-8b0a93eec6e2\",\"type\":\"Grid\"},{\"id\":\"f304c41f-0652-4e85-be4a-1c4e6056bbb6\",\"type\":\"Legend\"},{\"id\":\"64800b8b-97df-427c-ae3e-1b2ea728423e\",\"type\":\"GlyphRenderer\"},{\"id\":\"b7e56785-17bf-44d1-ae33-ff9a95f8769b\",\"type\":\"GlyphRenderer\"}],\"title\":{\"id\":\"a5fed2a8-1090-486b-ad73-3328bedd70da\",\"type\":\"Title\"},\"toolbar\":{\"id\":\"763384aa-7e8a-45eb-aa62-b268cdb8c660\",\"type\":\"Toolbar\"},\"toolbar_location\":null,\"x_range\":{\"id\":\"584c5dcf-4afa-4810-9fff-62a34dd1a80d\",\"type\":\"FactorRange\"},\"x_scale\":{\"id\":\"2bb98dd8-683e-4845-a12d-385c38247b5b\",\"type\":\"CategoricalScale\"},\"y_range\":{\"id\":\"878d0277-3231-4a33-a5ba-ca6a5d4b63b5\",\"type\":\"Range1d\"},\"y_scale\":{\"id\":\"2a0603ee-97bf-43b5-a325-57ca833e139e\",\"type\":\"LinearScale\"}},\"id\":\"70c51334-2004-4ad1-b8e6-993702e8f0ca\",\"subtype\":\"Figure\",\"type\":\"Plot\"},{\"attributes\":{},\"id\":\"27692767-c03e-48bf-aabc-7a76420b2dbc\",\"type\":\"BasicTicker\"},{\"attributes\":{},\"id\":\"85f80f8b-e32d-453d-a66c-34ccacd17cdc\",\"type\":\"CategoricalTickFormatter\"},{\"attributes\":{\"dimension\":1,\"plot\":{\"id\":\"70c51334-2004-4ad1-b8e6-993702e8f0ca\",\"subtype\":\"Figure\",\"type\":\"Plot\"},\"ticker\":{\"id\":\"27692767-c03e-48bf-aabc-7a76420b2dbc\",\"type\":\"BasicTicker\"}},\"id\":\"d9fb819b-e124-4fae-8209-8b0a93eec6e2\",\"type\":\"Grid\"},{\"attributes\":{\"grid_line_color\":{\"value\":null},\"plot\":{\"id\":\"70c51334-2004-4ad1-b8e6-993702e8f0ca\",\"subtype\":\"Figure\",\"type\":\"Plot\"},\"ticker\":{\"id\":\"05d18379-a312-4fa0-adca-4521a903c7d7\",\"type\":\"CategoricalTicker\"}},\"id\":\"90598c7f-e102-45dc-b2f1-3d99c6588929\",\"type\":\"Grid\"},{\"attributes\":{\"fill_alpha\":{\"value\":0.1},\"fill_color\":{\"value\":\"#1f77b4\"},\"line_alpha\":{\"value\":0.1},\"line_color\":{\"value\":\"#1f77b4\"},\"top\":{\"field\":\"Hombres\"},\"width\":{\"value\":0.2},\"x\":{\"field\":\"capital\",\"transform\":{\"id\":\"db60ceb5-7b91-436c-915a-30c0dd34076a\",\"type\":\"Dodge\"}}},\"id\":\"80c03442-2b0c-435c-892f-8a7df839fadf\",\"type\":\"VBar\"},{\"attributes\":{\"source\":{\"id\":\"542294f3-87e4-467f-8492-8b5d9340008b\",\"type\":\"ColumnDataSource\"}},\"id\":\"4a0f9fce-0374-4a70-a0b5-e4181079fa2a\",\"type\":\"CDSView\"},{\"attributes\":{},\"id\":\"2bb98dd8-683e-4845-a12d-385c38247b5b\",\"type\":\"CategoricalScale\"},{\"attributes\":{\"source\":{\"id\":\"542294f3-87e4-467f-8492-8b5d9340008b\",\"type\":\"ColumnDataSource\"}},\"id\":\"a37d258e-b4b3-48e7-8c67-a1ce5ef17922\",\"type\":\"CDSView\"},{\"attributes\":{},\"id\":\"d50dce89-c6d0-42f4-84ba-60e42a2c0ad0\",\"type\":\"BasicTickFormatter\"},{\"attributes\":{\"data_source\":{\"id\":\"542294f3-87e4-467f-8492-8b5d9340008b\",\"type\":\"ColumnDataSource\"},\"glyph\":{\"id\":\"ad6cc36b-44f4-4859-a1c2-d01271cd982e\",\"type\":\"VBar\"},\"hover_glyph\":null,\"muted_glyph\":null,\"nonselection_glyph\":{\"id\":\"80c03442-2b0c-435c-892f-8a7df839fadf\",\"type\":\"VBar\"},\"selection_glyph\":null,\"view\":{\"id\":\"4a0f9fce-0374-4a70-a0b5-e4181079fa2a\",\"type\":\"CDSView\"}},\"id\":\"64800b8b-97df-427c-ae3e-1b2ea728423e\",\"type\":\"GlyphRenderer\"},{\"attributes\":{\"fill_alpha\":{\"value\":0.1},\"fill_color\":{\"value\":\"#1f77b4\"},\"line_alpha\":{\"value\":0.1},\"line_color\":{\"value\":\"#1f77b4\"},\"top\":{\"field\":\"Mujeres\"},\"width\":{\"value\":0.2},\"x\":{\"field\":\"capital\",\"transform\":{\"id\":\"5fcef647-ae0d-49eb-9c82-94442ad884c4\",\"type\":\"Dodge\"}}},\"id\":\"ffb7f19d-f9fe-4ab4-aa21-ea7e65c7b807\",\"type\":\"VBar\"}],\"root_ids\":[\"70c51334-2004-4ad1-b8e6-993702e8f0ca\"]},\"title\":\"Bokeh Application\",\"version\":\"0.12.11\"}};\n",
       "    var render_items = [{\"docid\":\"cb4f6295-6ce1-40b9-b5a7-2a3e9a2c701b\",\"elementid\":\"32df344e-501d-45fe-b300-21cd46f69aa0\",\"modelid\":\"70c51334-2004-4ad1-b8e6-993702e8f0ca\"}];\n",
       "    root.Bokeh.embed.embed_items(docs_json, render_items);\n",
       "  }\n",
       "  if (root.Bokeh !== undefined) {\n",
       "    embed_document(root);\n",
       "  } else {\n",
       "    var attempts = 0;\n",
       "    var timer = setInterval(function(root) {\n",
       "      if (root.Bokeh !== undefined) {\n",
       "        embed_document(root);\n",
       "        clearInterval(timer);\n",
       "      }\n",
       "      attempts++;\n",
       "      if (attempts > 100) {\n",
       "        console.log(\"Bokeh: ERROR: Unable to embed document because BokehJS library is missing\")\n",
       "        clearInterval(timer);\n",
       "      }\n",
       "    }, 10, root)\n",
       "  }\n",
       "})(window);"
      ],
      "application/vnd.bokehjs_exec.v0+json": ""
     },
     "metadata": {
      "application/vnd.bokehjs_exec.v0+json": {
       "id": "70c51334-2004-4ad1-b8e6-993702e8f0ca"
      }
     },
     "output_type": "display_data"
    }
   ],
   "source": [
    "# con ayuda de bokeh podemos obtener varios tipos de graficos\n",
    "# https://bokeh.pydata.org/en/latest/docs/gallery.html\n",
    "# En esta ocasion utilizaremos un grafico de barras para presentar la poblacion de hombres y mujeres\n",
    "from bokeh.core.properties import value\n",
    "from bokeh.models import ColumnDataSource\n",
    "from bokeh.transform import dodge\n",
    "\n",
    "output_file('Menospobladas.html')\n",
    "\n",
    "provincias = ['Napo', 'Pastaza', 'Galapagos', 'Zamora Chinchipe']\n",
    "names = ['Hombres', 'Mujeres']\n",
    "\n",
    "data = {'capital' : provincias,\n",
    "        'Hombres'   : [52774, 42260, 13021, 47452],\n",
    "        'Mujeres'   : [50923, 41673, 12103, 43924]}\n",
    "\n",
    "source = ColumnDataSource(data=data)\n",
    "\n",
    "p = figure(x_range=provincias, y_range=(0, 80000), plot_height=350, title=\"Censo de las provincias mas pequeñas\",\n",
    "           toolbar_location=None, tools=\"\")\n",
    "\n",
    "p.vbar(x=dodge('capital', -0.25, range=p.x_range), top='Hombres', width=0.2, source=source,\n",
    "       color=\"#00FFFF\", legend=value(\"H\"))\n",
    "\n",
    "p.vbar(x=dodge('capital',  0.0,  range=p.x_range), top='Mujeres', width=0.2, source=source,\n",
    "       color=\"#E5D512\", legend=value(\"M\"))\n",
    "\n",
    "p.x_range.range_padding = 0.1\n",
    "p.xgrid.grid_line_color = None\n",
    "p.legend.location = \"top_left\"\n",
    "p.legend.orientation = \"horizontal\"\n",
    "\n",
    "show(p)"
   ]
  },
  {
   "cell_type": "code",
   "execution_count": 35,
   "metadata": {},
   "outputs": [
    {
     "ename": "NameError",
     "evalue": "name 'tabla1' is not defined",
     "output_type": "error",
     "traceback": [
      "\u001b[0;31m---------------------------------------------------------------------------\u001b[0m",
      "\u001b[0;31mNameError\u001b[0m                                 Traceback (most recent call last)",
      "\u001b[0;32m<ipython-input-35-ea58ccdb36f2>\u001b[0m in \u001b[0;36m<module>\u001b[0;34m()\u001b[0m\n\u001b[1;32m      1\u001b[0m \u001b[0;31m# con ayuda de .iloc podemos recorrer el indice de cada dato asi podemos llamar solo a los que necesitamos\u001b[0m\u001b[0;34m\u001b[0m\u001b[0;34m\u001b[0m\u001b[0m\n\u001b[1;32m      2\u001b[0m \u001b[0;31m# en esta ocacion llamaremos  a todas provincias de la region costa  del ecuador en 2010\u001b[0m\u001b[0;34m\u001b[0m\u001b[0;34m\u001b[0m\u001b[0m\n\u001b[0;32m----> 3\u001b[0;31m \u001b[0mtabla1\u001b[0m\u001b[0;34m.\u001b[0m \u001b[0miloc\u001b[0m \u001b[0;34m[\u001b[0m\u001b[0;34m[\u001b[0m \u001b[0;36m397\u001b[0m \u001b[0;34m,\u001b[0m  \u001b[0;36m470\u001b[0m \u001b[0;34m,\u001b[0m  \u001b[0;36m550\u001b[0m\u001b[0;34m,\u001b[0m\u001b[0;36m749\u001b[0m\u001b[0;34m,\u001b[0m\u001b[0;36m847\u001b[0m\u001b[0;34m,\u001b[0m\u001b[0;36m1251\u001b[0m\u001b[0;34m,\u001b[0m\u001b[0;36m1266\u001b[0m \u001b[0;34m]\u001b[0m\u001b[0;34m,\u001b[0m  \u001b[0;34m[\u001b[0m\u001b[0;36m0\u001b[0m\u001b[0;34m,\u001b[0m \u001b[0;36m1\u001b[0m\u001b[0;34m,\u001b[0m\u001b[0;36m3\u001b[0m\u001b[0;34m,\u001b[0m\u001b[0;36m4\u001b[0m\u001b[0;34m]\u001b[0m\u001b[0;34m]\u001b[0m\u001b[0;34m\u001b[0m\u001b[0m\n\u001b[0m",
      "\u001b[0;31mNameError\u001b[0m: name 'tabla1' is not defined"
     ]
    }
   ],
   "source": [
    "# con ayuda de .iloc podemos recorrer el indice de cada dato asi podemos llamar solo a los que necesitamos\n",
    "# en esta ocacion llamaremos  a todas provincias de la region costa  del ecuador en 2010\n",
    "tabla1. iloc [[ 397 ,  470 ,  550,749,847,1251,1266 ],  [0, 1,3,4]] "
   ]
  },
  {
   "cell_type": "code",
   "execution_count": 36,
   "metadata": {},
   "outputs": [
    {
     "data": {
      "text/html": [
       "\n",
       "<div class=\"bk-root\">\n",
       "    <div class=\"bk-plotdiv\" id=\"09f7de7d-51c0-4e8a-8082-26e8c7cd6e55\"></div>\n",
       "</div>"
      ]
     },
     "metadata": {},
     "output_type": "display_data"
    },
    {
     "data": {
      "application/javascript": [
       "(function(root) {\n",
       "  function embed_document(root) {\n",
       "    var docs_json = {\"bba8ad48-32c7-4ebe-839e-0865b9f5e7c1\":{\"roots\":{\"references\":[{\"attributes\":{},\"id\":\"c9990a47-c035-4af2-8e51-4871b49988aa\",\"type\":\"LinearScale\"},{\"attributes\":{\"dimension\":1,\"plot\":{\"id\":\"579e2ca2-484a-4bdb-9e03-22fc4f708be8\",\"subtype\":\"Figure\",\"type\":\"Plot\"},\"ticker\":{\"id\":\"79f91d1f-c929-4596-b989-d84fcb06f3fc\",\"type\":\"BasicTicker\"}},\"id\":\"180b5260-68b8-457f-a2c8-907d63034515\",\"type\":\"Grid\"},{\"attributes\":{},\"id\":\"79f91d1f-c929-4596-b989-d84fcb06f3fc\",\"type\":\"BasicTicker\"},{\"attributes\":{\"data_source\":{\"id\":\"896abbb2-ae6e-42cd-bd3d-a340a3191c01\",\"type\":\"ColumnDataSource\"},\"glyph\":{\"id\":\"7423f03d-3b21-46a2-91b7-98b9532f73c8\",\"type\":\"VBar\"},\"hover_glyph\":null,\"muted_glyph\":null,\"nonselection_glyph\":{\"id\":\"e7b64eb2-94d2-468b-9ba4-7ea0e07d80aa\",\"type\":\"VBar\"},\"selection_glyph\":null,\"view\":{\"id\":\"f0489c1c-deda-4bd8-ab5e-9abec238b2c9\",\"type\":\"CDSView\"}},\"id\":\"3dfcc4cd-51c4-421b-afd2-9677e26a9cfc\",\"type\":\"GlyphRenderer\"},{\"attributes\":{\"active_drag\":\"auto\",\"active_inspect\":\"auto\",\"active_scroll\":\"auto\",\"active_tap\":\"auto\"},\"id\":\"1d9b2cdb-6ca7-4a39-97ad-8059063d9b6f\",\"type\":\"Toolbar\"},{\"attributes\":{\"data_source\":{\"id\":\"896abbb2-ae6e-42cd-bd3d-a340a3191c01\",\"type\":\"ColumnDataSource\"},\"glyph\":{\"id\":\"a2a7a116-7543-4c95-a547-27106d3bae18\",\"type\":\"VBar\"},\"hover_glyph\":null,\"muted_glyph\":null,\"nonselection_glyph\":{\"id\":\"136d3553-3135-4744-b847-397a0df0428b\",\"type\":\"VBar\"},\"selection_glyph\":null,\"view\":{\"id\":\"515ed7c5-8181-4a51-bc07-1c80354a51e4\",\"type\":\"CDSView\"}},\"id\":\"48720ed8-73c7-4dbf-b951-3e59b43a24b9\",\"type\":\"GlyphRenderer\"},{\"attributes\":{\"label\":{\"value\":\"Mujeres\"},\"renderers\":[{\"id\":\"48720ed8-73c7-4dbf-b951-3e59b43a24b9\",\"type\":\"GlyphRenderer\"}]},\"id\":\"d17afa06-ed32-463c-b60c-d943edc8f176\",\"type\":\"LegendItem\"},{\"attributes\":{\"callback\":null,\"factors\":[\"El Oro\",\"Esmeraldas\",\"Guayas\",\"Los Rios\",\"Manabi\",\"Santo Domingo\",\"Santa Elena\"],\"range_padding\":0.1},\"id\":\"0a8c9659-e12a-41ec-bcc9-ffe5026a3341\",\"type\":\"FactorRange\"},{\"attributes\":{\"below\":[{\"id\":\"c825d33c-0342-4663-a040-ae6390105527\",\"type\":\"CategoricalAxis\"}],\"left\":[{\"id\":\"7ff59548-3d96-47dc-b75c-93e1f31cc9f3\",\"type\":\"LinearAxis\"}],\"outline_line_color\":{\"value\":null},\"plot_height\":650,\"renderers\":[{\"id\":\"c825d33c-0342-4663-a040-ae6390105527\",\"type\":\"CategoricalAxis\"},{\"id\":\"270d0ce0-ff70-45ca-8249-c57d2b9748c4\",\"type\":\"Grid\"},{\"id\":\"7ff59548-3d96-47dc-b75c-93e1f31cc9f3\",\"type\":\"LinearAxis\"},{\"id\":\"180b5260-68b8-457f-a2c8-907d63034515\",\"type\":\"Grid\"},{\"id\":\"2a91f5db-2fd0-4013-88b6-929a81ac5ac7\",\"type\":\"Legend\"},{\"id\":\"3dfcc4cd-51c4-421b-afd2-9677e26a9cfc\",\"type\":\"GlyphRenderer\"},{\"id\":\"48720ed8-73c7-4dbf-b951-3e59b43a24b9\",\"type\":\"GlyphRenderer\"}],\"title\":{\"id\":\"19cccef7-7c06-4c3e-bcc6-5b6852d95b86\",\"type\":\"Title\"},\"toolbar\":{\"id\":\"1d9b2cdb-6ca7-4a39-97ad-8059063d9b6f\",\"type\":\"Toolbar\"},\"toolbar_location\":null,\"x_range\":{\"id\":\"0a8c9659-e12a-41ec-bcc9-ffe5026a3341\",\"type\":\"FactorRange\"},\"x_scale\":{\"id\":\"aecb93ea-c0c5-4809-bff0-900f63757f47\",\"type\":\"CategoricalScale\"},\"y_range\":{\"id\":\"c918f0c4-d1df-47c0-a6f6-8b316240930e\",\"type\":\"DataRange1d\"},\"y_scale\":{\"id\":\"c9990a47-c035-4af2-8e51-4871b49988aa\",\"type\":\"LinearScale\"}},\"id\":\"579e2ca2-484a-4bdb-9e03-22fc4f708be8\",\"subtype\":\"Figure\",\"type\":\"Plot\"},{\"attributes\":{},\"id\":\"c77cd31c-93ef-413a-ba2f-4a645379bd9b\",\"type\":\"BasicTickFormatter\"},{\"attributes\":{\"fields\":[\"Hombres\"]},\"id\":\"f88d1dea-e742-47a3-9254-a1d50197733e\",\"type\":\"Stack\"},{\"attributes\":{\"fields\":[]},\"id\":\"f3908cdf-c7c1-45fa-8302-ead9e877996d\",\"type\":\"Stack\"},{\"attributes\":{\"fields\":[\"Hombres\"]},\"id\":\"411a757e-ad5e-43e8-b959-7ec7af8281d1\",\"type\":\"Stack\"},{\"attributes\":{},\"id\":\"aecb93ea-c0c5-4809-bff0-900f63757f47\",\"type\":\"CategoricalScale\"},{\"attributes\":{\"grid_line_color\":{\"value\":null},\"plot\":{\"id\":\"579e2ca2-484a-4bdb-9e03-22fc4f708be8\",\"subtype\":\"Figure\",\"type\":\"Plot\"},\"ticker\":{\"id\":\"cee7aa94-7457-479e-931f-06ccddc1f2a6\",\"type\":\"CategoricalTicker\"}},\"id\":\"270d0ce0-ff70-45ca-8249-c57d2b9748c4\",\"type\":\"Grid\"},{\"attributes\":{\"plot\":null,\"text\":\"Censo de las provinias de la costa del 2010 \"},\"id\":\"19cccef7-7c06-4c3e-bcc6-5b6852d95b86\",\"type\":\"Title\"},{\"attributes\":{\"bottom\":{\"expr\":{\"id\":\"f3908cdf-c7c1-45fa-8302-ead9e877996d\",\"type\":\"Stack\"}},\"fill_color\":{\"value\":\"green\"},\"line_color\":{\"value\":\"green\"},\"top\":{\"expr\":{\"id\":\"411a757e-ad5e-43e8-b959-7ec7af8281d1\",\"type\":\"Stack\"}},\"width\":{\"value\":0.9},\"x\":{\"field\":\"fruits\"}},\"id\":\"7423f03d-3b21-46a2-91b7-98b9532f73c8\",\"type\":\"VBar\"},{\"attributes\":{},\"id\":\"10c4cc4d-9550-4359-9c00-f0960c765c64\",\"type\":\"CategoricalTickFormatter\"},{\"attributes\":{\"bottom\":{\"expr\":{\"id\":\"f88d1dea-e742-47a3-9254-a1d50197733e\",\"type\":\"Stack\"}},\"fill_alpha\":{\"value\":0.1},\"fill_color\":{\"value\":\"#1f77b4\"},\"line_alpha\":{\"value\":0.1},\"line_color\":{\"value\":\"#1f77b4\"},\"top\":{\"expr\":{\"id\":\"45cea829-363c-4a75-b6df-ec59e7ef2aab\",\"type\":\"Stack\"}},\"width\":{\"value\":0.9},\"x\":{\"field\":\"fruits\"}},\"id\":\"136d3553-3135-4744-b847-397a0df0428b\",\"type\":\"VBar\"},{\"attributes\":{\"formatter\":{\"id\":\"c77cd31c-93ef-413a-ba2f-4a645379bd9b\",\"type\":\"BasicTickFormatter\"},\"minor_tick_line_color\":{\"value\":null},\"plot\":{\"id\":\"579e2ca2-484a-4bdb-9e03-22fc4f708be8\",\"subtype\":\"Figure\",\"type\":\"Plot\"},\"ticker\":{\"id\":\"79f91d1f-c929-4596-b989-d84fcb06f3fc\",\"type\":\"BasicTicker\"}},\"id\":\"7ff59548-3d96-47dc-b75c-93e1f31cc9f3\",\"type\":\"LinearAxis\"},{\"attributes\":{\"callback\":null,\"column_names\":[\"Hombres\",\"fruits\",\"Mujeres\"],\"data\":{\"Hombres\":[304362,271312,1815914,398099,689299,183058,156862],\"Mujeres\":[296297,262780,1829569,380016,680481,184955,151831],\"fruits\":[\"El Oro\",\"Esmeraldas\",\"Guayas\",\"Los Rios\",\"Manabi\",\"Santo Domingo\",\"Santa Elena\"]}},\"id\":\"896abbb2-ae6e-42cd-bd3d-a340a3191c01\",\"type\":\"ColumnDataSource\"},{\"attributes\":{\"source\":{\"id\":\"896abbb2-ae6e-42cd-bd3d-a340a3191c01\",\"type\":\"ColumnDataSource\"}},\"id\":\"515ed7c5-8181-4a51-bc07-1c80354a51e4\",\"type\":\"CDSView\"},{\"attributes\":{\"label\":{\"value\":\"Hombres\"},\"renderers\":[{\"id\":\"3dfcc4cd-51c4-421b-afd2-9677e26a9cfc\",\"type\":\"GlyphRenderer\"}]},\"id\":\"9907af7b-363b-426a-ad39-02d4563b5164\",\"type\":\"LegendItem\"},{\"attributes\":{\"source\":{\"id\":\"896abbb2-ae6e-42cd-bd3d-a340a3191c01\",\"type\":\"ColumnDataSource\"}},\"id\":\"f0489c1c-deda-4bd8-ab5e-9abec238b2c9\",\"type\":\"CDSView\"},{\"attributes\":{\"fields\":[\"Hombres\",\"Mujeres\"]},\"id\":\"45cea829-363c-4a75-b6df-ec59e7ef2aab\",\"type\":\"Stack\"},{\"attributes\":{\"items\":[{\"id\":\"9907af7b-363b-426a-ad39-02d4563b5164\",\"type\":\"LegendItem\"},{\"id\":\"d17afa06-ed32-463c-b60c-d943edc8f176\",\"type\":\"LegendItem\"}],\"orientation\":\"horizontal\",\"plot\":{\"id\":\"579e2ca2-484a-4bdb-9e03-22fc4f708be8\",\"subtype\":\"Figure\",\"type\":\"Plot\"}},\"id\":\"2a91f5db-2fd0-4013-88b6-929a81ac5ac7\",\"type\":\"Legend\"},{\"attributes\":{\"bottom\":{\"expr\":{\"id\":\"f88d1dea-e742-47a3-9254-a1d50197733e\",\"type\":\"Stack\"}},\"fill_color\":{\"value\":\"yellow\"},\"line_color\":{\"value\":\"yellow\"},\"top\":{\"expr\":{\"id\":\"45cea829-363c-4a75-b6df-ec59e7ef2aab\",\"type\":\"Stack\"}},\"width\":{\"value\":0.9},\"x\":{\"field\":\"fruits\"}},\"id\":\"a2a7a116-7543-4c95-a547-27106d3bae18\",\"type\":\"VBar\"},{\"attributes\":{\"callback\":null,\"start\":0},\"id\":\"c918f0c4-d1df-47c0-a6f6-8b316240930e\",\"type\":\"DataRange1d\"},{\"attributes\":{\"bottom\":{\"expr\":{\"id\":\"f3908cdf-c7c1-45fa-8302-ead9e877996d\",\"type\":\"Stack\"}},\"fill_alpha\":{\"value\":0.1},\"fill_color\":{\"value\":\"#1f77b4\"},\"line_alpha\":{\"value\":0.1},\"line_color\":{\"value\":\"#1f77b4\"},\"top\":{\"expr\":{\"id\":\"411a757e-ad5e-43e8-b959-7ec7af8281d1\",\"type\":\"Stack\"}},\"width\":{\"value\":0.9},\"x\":{\"field\":\"fruits\"}},\"id\":\"e7b64eb2-94d2-468b-9ba4-7ea0e07d80aa\",\"type\":\"VBar\"},{\"attributes\":{\"formatter\":{\"id\":\"10c4cc4d-9550-4359-9c00-f0960c765c64\",\"type\":\"CategoricalTickFormatter\"},\"minor_tick_line_color\":{\"value\":null},\"plot\":{\"id\":\"579e2ca2-484a-4bdb-9e03-22fc4f708be8\",\"subtype\":\"Figure\",\"type\":\"Plot\"},\"ticker\":{\"id\":\"cee7aa94-7457-479e-931f-06ccddc1f2a6\",\"type\":\"CategoricalTicker\"}},\"id\":\"c825d33c-0342-4663-a040-ae6390105527\",\"type\":\"CategoricalAxis\"},{\"attributes\":{},\"id\":\"cee7aa94-7457-479e-931f-06ccddc1f2a6\",\"type\":\"CategoricalTicker\"}],\"root_ids\":[\"579e2ca2-484a-4bdb-9e03-22fc4f708be8\"]},\"title\":\"Bokeh Application\",\"version\":\"0.12.11\"}};\n",
       "    var render_items = [{\"docid\":\"bba8ad48-32c7-4ebe-839e-0865b9f5e7c1\",\"elementid\":\"09f7de7d-51c0-4e8a-8082-26e8c7cd6e55\",\"modelid\":\"579e2ca2-484a-4bdb-9e03-22fc4f708be8\"}];\n",
       "    root.Bokeh.embed.embed_items(docs_json, render_items);\n",
       "  }\n",
       "  if (root.Bokeh !== undefined) {\n",
       "    embed_document(root);\n",
       "  } else {\n",
       "    var attempts = 0;\n",
       "    var timer = setInterval(function(root) {\n",
       "      if (root.Bokeh !== undefined) {\n",
       "        embed_document(root);\n",
       "        clearInterval(timer);\n",
       "      }\n",
       "      attempts++;\n",
       "      if (attempts > 100) {\n",
       "        console.log(\"Bokeh: ERROR: Unable to embed document because BokehJS library is missing\")\n",
       "        clearInterval(timer);\n",
       "      }\n",
       "    }, 10, root)\n",
       "  }\n",
       "})(window);"
      ],
      "application/vnd.bokehjs_exec.v0+json": ""
     },
     "metadata": {
      "application/vnd.bokehjs_exec.v0+json": {
       "id": "579e2ca2-484a-4bdb-9e03-22fc4f708be8"
      }
     },
     "output_type": "display_data"
    }
   ],
   "source": [
    "# con ayuda de bokeh podemos obtener varios tipos de graficos\n",
    "# https://bokeh.pydata.org/en/latest/docs/gallery.html\n",
    "# En esta ocasion utilizaremos un grafico de barras para presentar la poblacion de hombres y mujeres\n",
    "from bokeh.core.properties import value\n",
    "from bokeh.io import show, output_file\n",
    "from bokeh.models import ColumnDataSource\n",
    "from bokeh.plotting import figure\n",
    "\n",
    "output_file(\"Provincias de la Costa.html\")\n",
    "\n",
    "fruits = ['El Oro', 'Esmeraldas', 'Guayas', 'Los Rios', 'Manabi', 'Santo Domingo', 'Santa Elena']\n",
    "years = [\"Hombres\", \"Mujeres\"]\n",
    "colors = [\"green\", \"yellow\"]\n",
    "\n",
    "data = {'fruits' : fruits,\n",
    "        'Hombres'   : [304362, 271312, 1815914, 398099, 689299, 183058,156862],\n",
    "        'Mujeres'   : [296297, 262780, 1829569, 380016, 680481, 184955,151831],}\n",
    "\n",
    "source = ColumnDataSource(data=data)\n",
    "\n",
    "p = figure(x_range=fruits, plot_height=650, title=\"Censo de las provinias de la costa del 2010 \",\n",
    "           toolbar_location=None, tools=\"\")\n",
    "\n",
    "p.vbar_stack(years, x='fruits', width=0.9, color=colors, source=source,\n",
    "             legend=[value(x) for x in years])\n",
    "\n",
    "p.y_range.start = 0\n",
    "p.x_range.range_padding = 0.1\n",
    "p.xgrid.grid_line_color = None\n",
    "p.axis.minor_tick_line_color = None\n",
    "p.outline_line_color = None\n",
    "p.legend.location = \"top_right\"\n",
    "p.legend.orientation = \"horizontal\"\n",
    "\n",
    "show(p)\n"
   ]
  },
  {
   "cell_type": "code",
   "execution_count": 37,
   "metadata": {},
   "outputs": [
    {
     "ename": "NameError",
     "evalue": "name 'tabla1' is not defined",
     "output_type": "error",
     "traceback": [
      "\u001b[0;31m---------------------------------------------------------------------------\u001b[0m",
      "\u001b[0;31mNameError\u001b[0m                                 Traceback (most recent call last)",
      "\u001b[0;32m<ipython-input-37-8064d9043dae>\u001b[0m in \u001b[0;36m<module>\u001b[0;34m()\u001b[0m\n\u001b[1;32m      1\u001b[0m \u001b[0;31m# con ayuda de .iloc podemos recorrer el indice de cada dato asi podemos llamar solo a los que necesitamos\u001b[0m\u001b[0;34m\u001b[0m\u001b[0;34m\u001b[0m\u001b[0m\n\u001b[1;32m      2\u001b[0m \u001b[0;31m# en esta ocacion llamaremos  a todas provincias de la region sierra  del ecuador en 2010\u001b[0m\u001b[0;34m\u001b[0m\u001b[0;34m\u001b[0m\u001b[0m\n\u001b[0;32m----> 3\u001b[0;31m \u001b[0mtabla1\u001b[0m\u001b[0;34m.\u001b[0m \u001b[0miloc\u001b[0m \u001b[0;34m[\u001b[0m\u001b[0;34m[\u001b[0m \u001b[0;36m90\u001b[0m\u001b[0;34m,\u001b[0m\u001b[0;36m124\u001b[0m \u001b[0;34m,\u001b[0m\u001b[0;36m165\u001b[0m\u001b[0;34m,\u001b[0m  \u001b[0;36m205\u001b[0m \u001b[0;34m,\u001b[0m  \u001b[0;36m253\u001b[0m\u001b[0;34m,\u001b[0m\u001b[0;36m319\u001b[0m\u001b[0;34m,\u001b[0m\u001b[0;36m599\u001b[0m\u001b[0;34m,\u001b[0m\u001b[0;36m708\u001b[0m\u001b[0;34m,\u001b[0m\u001b[0;36m1042\u001b[0m\u001b[0;34m,\u001b[0m\u001b[0;36m1105\u001b[0m \u001b[0;34m]\u001b[0m\u001b[0;34m,\u001b[0m  \u001b[0;34m[\u001b[0m\u001b[0;36m0\u001b[0m\u001b[0;34m,\u001b[0m \u001b[0;36m1\u001b[0m\u001b[0;34m,\u001b[0m\u001b[0;36m3\u001b[0m\u001b[0;34m,\u001b[0m\u001b[0;36m4\u001b[0m \u001b[0;34m]\u001b[0m\u001b[0;34m]\u001b[0m\u001b[0;34m\u001b[0m\u001b[0m\n\u001b[0m",
      "\u001b[0;31mNameError\u001b[0m: name 'tabla1' is not defined"
     ]
    }
   ],
   "source": [
    "# con ayuda de .iloc podemos recorrer el indice de cada dato asi podemos llamar solo a los que necesitamos\n",
    "# en esta ocacion llamaremos  a todas provincias de la region sierra  del ecuador en 2010\n",
    "tabla1. iloc [[ 90,124 ,165,  205 ,  253,319,599,708,1042,1105 ],  [0, 1,3,4 ]] "
   ]
  },
  {
   "cell_type": "code",
   "execution_count": 38,
   "metadata": {},
   "outputs": [
    {
     "data": {
      "text/html": [
       "\n",
       "<div class=\"bk-root\">\n",
       "    <div class=\"bk-plotdiv\" id=\"2159d584-4246-42cc-8e16-a44c95ea89d9\"></div>\n",
       "</div>"
      ]
     },
     "metadata": {},
     "output_type": "display_data"
    },
    {
     "data": {
      "application/javascript": [
       "(function(root) {\n",
       "  function embed_document(root) {\n",
       "    var docs_json = {\"9eadac6e-fc22-487e-9652-944f9cc1ec62\":{\"roots\":{\"references\":[{\"attributes\":{},\"id\":\"e9a73a15-798b-45ef-b01a-e4908e5f47d7\",\"type\":\"BasicTickFormatter\"},{\"attributes\":{\"fields\":[]},\"id\":\"c0cc95e3-50b3-4082-97a5-4302c422eb1c\",\"type\":\"Stack\"},{\"attributes\":{\"fill_color\":{\"value\":\"red\"},\"height\":{\"value\":0.9},\"left\":{\"expr\":{\"id\":\"c0cc95e3-50b3-4082-97a5-4302c422eb1c\",\"type\":\"Stack\"}},\"line_color\":{\"value\":\"red\"},\"right\":{\"expr\":{\"id\":\"575c9b3f-4721-46a1-851c-c1276b14b4d7\",\"type\":\"Stack\"}},\"y\":{\"field\":\"fruits\"}},\"id\":\"26480c39-aad5-4baf-8ff8-71f9608f9e21\",\"type\":\"HBar\"},{\"attributes\":{},\"id\":\"0c6a92b9-ec8c-48fe-babd-c00faa0e889f\",\"type\":\"CategoricalTickFormatter\"},{\"attributes\":{\"items\":[{\"id\":\"07785654-7c4d-4e95-b05f-924d2725301a\",\"type\":\"LegendItem\"},{\"id\":\"bf58676f-8d1e-4241-9e24-a59f91589a65\",\"type\":\"LegendItem\"}],\"location\":\"bottom_right\",\"plot\":{\"id\":\"756bf362-330e-4d17-a0d7-237cdc2047da\",\"subtype\":\"Figure\",\"type\":\"Plot\"}},\"id\":\"b18f7646-89f4-4a0c-8fe5-4a94ff22cf60\",\"type\":\"Legend\"},{\"attributes\":{\"callback\":null,\"factors\":[\"Azuay\",\"Bolivar\",\"Ca\\u00f1ar\",\"Carchi\",\"Cotopaxi\",\"Chimborazo\",\"Imbabura\",\"Loja\",\"Pichincha\",\"Tungurahua\"],\"range_padding\":0.1},\"id\":\"4b4c5b35-c288-4794-9e9c-7a830685d7d3\",\"type\":\"FactorRange\"},{\"attributes\":{\"fill_color\":{\"value\":\"blue\"},\"height\":{\"value\":0.9},\"left\":{\"expr\":{\"id\":\"ae2f73d7-6943-4c63-827e-8ade06f055a2\",\"type\":\"Stack\"}},\"line_color\":{\"value\":\"blue\"},\"right\":{\"expr\":{\"id\":\"15565de6-c66e-4b39-96b0-cef44fdb02b6\",\"type\":\"Stack\"}},\"y\":{\"field\":\"fruits\"}},\"id\":\"ac75ab30-ecfa-4cdd-8ebb-9f2f9897cdb0\",\"type\":\"HBar\"},{\"attributes\":{\"callback\":null,\"end\":2800000},\"id\":\"20b28606-e808-4428-b596-25d76a5a9505\",\"type\":\"Range1d\"},{\"attributes\":{\"below\":[{\"id\":\"ff1df75e-9519-4a3f-ace5-79b744d0a29b\",\"type\":\"LinearAxis\"}],\"left\":[{\"id\":\"be93debb-0888-4f59-82e5-dfbe380a0928\",\"type\":\"CategoricalAxis\"}],\"outline_line_color\":{\"value\":null},\"plot_height\":350,\"renderers\":[{\"id\":\"ff1df75e-9519-4a3f-ace5-79b744d0a29b\",\"type\":\"LinearAxis\"},{\"id\":\"f27f0c67-dcfd-450e-ac84-80f80b9ef2b8\",\"type\":\"Grid\"},{\"id\":\"be93debb-0888-4f59-82e5-dfbe380a0928\",\"type\":\"CategoricalAxis\"},{\"id\":\"ab300cdd-7e7e-4d3c-bf3b-803855262f80\",\"type\":\"Grid\"},{\"id\":\"bacc07d1-0cf4-415d-9af3-cdf10bacbffe\",\"type\":\"BoxAnnotation\"},{\"id\":\"b18f7646-89f4-4a0c-8fe5-4a94ff22cf60\",\"type\":\"Legend\"},{\"id\":\"943196fd-b352-461b-acbf-ebbd19e973d2\",\"type\":\"GlyphRenderer\"},{\"id\":\"48338a16-8773-4835-9674-d855ed7f582a\",\"type\":\"GlyphRenderer\"}],\"title\":{\"id\":\"abb18233-abac-4ac3-aded-848e22be2b9f\",\"type\":\"Title\"},\"toolbar\":{\"id\":\"89376911-039b-4c12-99a3-1c41bbe7e7d1\",\"type\":\"Toolbar\"},\"toolbar_location\":null,\"x_range\":{\"id\":\"20b28606-e808-4428-b596-25d76a5a9505\",\"type\":\"Range1d\"},\"x_scale\":{\"id\":\"2514e23d-9290-4563-8349-dd19df8cfc86\",\"type\":\"LinearScale\"},\"y_range\":{\"id\":\"4b4c5b35-c288-4794-9e9c-7a830685d7d3\",\"type\":\"FactorRange\"},\"y_scale\":{\"id\":\"0beffef3-3d76-4f36-a723-4a8e62f6c13a\",\"type\":\"CategoricalScale\"}},\"id\":\"756bf362-330e-4d17-a0d7-237cdc2047da\",\"subtype\":\"Figure\",\"type\":\"Plot\"},{\"attributes\":{\"fields\":[\"Hombres\"]},\"id\":\"575c9b3f-4721-46a1-851c-c1276b14b4d7\",\"type\":\"Stack\"},{\"attributes\":{\"fill_alpha\":{\"value\":0.1},\"fill_color\":{\"value\":\"#1f77b4\"},\"height\":{\"value\":0.9},\"left\":{\"expr\":{\"id\":\"c0cc95e3-50b3-4082-97a5-4302c422eb1c\",\"type\":\"Stack\"}},\"line_alpha\":{\"value\":0.1},\"line_color\":{\"value\":\"#1f77b4\"},\"right\":{\"expr\":{\"id\":\"575c9b3f-4721-46a1-851c-c1276b14b4d7\",\"type\":\"Stack\"}},\"y\":{\"field\":\"fruits\"}},\"id\":\"b22459cd-74f7-4dfe-b233-17265c53116c\",\"type\":\"HBar\"},{\"attributes\":{\"callback\":null,\"column_names\":[\"Hombres\",\"fruits\",\"Mujeres\"],\"data\":{\"Hombres\":[337044,89875,105235,81155,198625,219401,193664,220794,1255711,244783],\"Mujeres\":[375083,93766,119949,83369,210580,239180,204580,228172,1320576,259800],\"fruits\":[\"Azuay\",\"Bolivar\",\"Ca\\u00f1ar\",\"Carchi\",\"Cotopaxi\",\"Chimborazo\",\"Imbabura\",\"Loja\",\"Pichincha\",\"Tungurahua\"]}},\"id\":\"4d286d2a-f0e0-41e4-8a19-40925bc111b2\",\"type\":\"ColumnDataSource\"},{\"attributes\":{},\"id\":\"f2ec3fe9-92f9-41bf-b7dc-0746f6abe900\",\"type\":\"WheelZoomTool\"},{\"attributes\":{\"source\":{\"id\":\"4d286d2a-f0e0-41e4-8a19-40925bc111b2\",\"type\":\"ColumnDataSource\"}},\"id\":\"d23422f2-bd17-4799-a15b-867d9ad0ab72\",\"type\":\"CDSView\"},{\"attributes\":{},\"id\":\"2514e23d-9290-4563-8349-dd19df8cfc86\",\"type\":\"LinearScale\"},{\"attributes\":{\"bottom_units\":\"screen\",\"fill_alpha\":{\"value\":0.5},\"fill_color\":{\"value\":\"lightgrey\"},\"left_units\":\"screen\",\"level\":\"overlay\",\"line_alpha\":{\"value\":1.0},\"line_color\":{\"value\":\"black\"},\"line_dash\":[4,4],\"line_width\":{\"value\":2},\"plot\":null,\"render_mode\":\"css\",\"right_units\":\"screen\",\"top_units\":\"screen\"},\"id\":\"bacc07d1-0cf4-415d-9af3-cdf10bacbffe\",\"type\":\"BoxAnnotation\"},{\"attributes\":{\"fields\":[\"Hombres\"]},\"id\":\"ae2f73d7-6943-4c63-827e-8ade06f055a2\",\"type\":\"Stack\"},{\"attributes\":{\"label\":{\"value\":\"Hombres\"},\"renderers\":[{\"id\":\"943196fd-b352-461b-acbf-ebbd19e973d2\",\"type\":\"GlyphRenderer\"}]},\"id\":\"07785654-7c4d-4e95-b05f-924d2725301a\",\"type\":\"LegendItem\"},{\"attributes\":{},\"id\":\"ec8b2030-c3cf-4060-8056-1ad99f6f945f\",\"type\":\"CategoricalTicker\"},{\"attributes\":{},\"id\":\"0beffef3-3d76-4f36-a723-4a8e62f6c13a\",\"type\":\"CategoricalScale\"},{\"attributes\":{\"formatter\":{\"id\":\"e9a73a15-798b-45ef-b01a-e4908e5f47d7\",\"type\":\"BasicTickFormatter\"},\"minor_tick_line_color\":{\"value\":null},\"plot\":{\"id\":\"756bf362-330e-4d17-a0d7-237cdc2047da\",\"subtype\":\"Figure\",\"type\":\"Plot\"},\"ticker\":{\"id\":\"7d99b47c-c909-46f8-b72f-1be426160682\",\"type\":\"BasicTicker\"}},\"id\":\"ff1df75e-9519-4a3f-ace5-79b744d0a29b\",\"type\":\"LinearAxis\"},{\"attributes\":{},\"id\":\"7d99b47c-c909-46f8-b72f-1be426160682\",\"type\":\"BasicTicker\"},{\"attributes\":{\"dimension\":1,\"grid_line_color\":{\"value\":null},\"plot\":{\"id\":\"756bf362-330e-4d17-a0d7-237cdc2047da\",\"subtype\":\"Figure\",\"type\":\"Plot\"},\"ticker\":{\"id\":\"ec8b2030-c3cf-4060-8056-1ad99f6f945f\",\"type\":\"CategoricalTicker\"}},\"id\":\"ab300cdd-7e7e-4d3c-bf3b-803855262f80\",\"type\":\"Grid\"},{\"attributes\":{\"formatter\":{\"id\":\"0c6a92b9-ec8c-48fe-babd-c00faa0e889f\",\"type\":\"CategoricalTickFormatter\"},\"minor_tick_line_color\":{\"value\":null},\"plot\":{\"id\":\"756bf362-330e-4d17-a0d7-237cdc2047da\",\"subtype\":\"Figure\",\"type\":\"Plot\"},\"ticker\":{\"id\":\"ec8b2030-c3cf-4060-8056-1ad99f6f945f\",\"type\":\"CategoricalTicker\"}},\"id\":\"be93debb-0888-4f59-82e5-dfbe380a0928\",\"type\":\"CategoricalAxis\"},{\"attributes\":{\"data_source\":{\"id\":\"4d286d2a-f0e0-41e4-8a19-40925bc111b2\",\"type\":\"ColumnDataSource\"},\"glyph\":{\"id\":\"ac75ab30-ecfa-4cdd-8ebb-9f2f9897cdb0\",\"type\":\"HBar\"},\"hover_glyph\":null,\"muted_glyph\":null,\"nonselection_glyph\":{\"id\":\"243a61e8-c2c6-43c6-bc72-6cf9e4e4f5d3\",\"type\":\"HBar\"},\"selection_glyph\":null,\"view\":{\"id\":\"cbf44654-063a-4827-99eb-9e3b25bc2935\",\"type\":\"CDSView\"}},\"id\":\"48338a16-8773-4835-9674-d855ed7f582a\",\"type\":\"GlyphRenderer\"},{\"attributes\":{},\"id\":\"fcf0fd79-8bdc-49c5-812e-cbfb56415afb\",\"type\":\"ResetTool\"},{\"attributes\":{},\"id\":\"e0a61b25-5d84-4799-8492-988caa3ba833\",\"type\":\"PanTool\"},{\"attributes\":{\"label\":{\"value\":\"Mujeres\"},\"renderers\":[{\"id\":\"48338a16-8773-4835-9674-d855ed7f582a\",\"type\":\"GlyphRenderer\"}]},\"id\":\"bf58676f-8d1e-4241-9e24-a59f91589a65\",\"type\":\"LegendItem\"},{\"attributes\":{},\"id\":\"20efd948-cb4d-44f0-9514-7800ae02e7f5\",\"type\":\"HelpTool\"},{\"attributes\":{\"fill_alpha\":{\"value\":0.1},\"fill_color\":{\"value\":\"#1f77b4\"},\"height\":{\"value\":0.9},\"left\":{\"expr\":{\"id\":\"ae2f73d7-6943-4c63-827e-8ade06f055a2\",\"type\":\"Stack\"}},\"line_alpha\":{\"value\":0.1},\"line_color\":{\"value\":\"#1f77b4\"},\"right\":{\"expr\":{\"id\":\"15565de6-c66e-4b39-96b0-cef44fdb02b6\",\"type\":\"Stack\"}},\"y\":{\"field\":\"fruits\"}},\"id\":\"243a61e8-c2c6-43c6-bc72-6cf9e4e4f5d3\",\"type\":\"HBar\"},{\"attributes\":{\"source\":{\"id\":\"4d286d2a-f0e0-41e4-8a19-40925bc111b2\",\"type\":\"ColumnDataSource\"}},\"id\":\"cbf44654-063a-4827-99eb-9e3b25bc2935\",\"type\":\"CDSView\"},{\"attributes\":{\"plot\":null,\"text\":\"Poblacion del 2010 de la Sierra \"},\"id\":\"abb18233-abac-4ac3-aded-848e22be2b9f\",\"type\":\"Title\"},{\"attributes\":{\"active_drag\":\"auto\",\"active_inspect\":\"auto\",\"active_scroll\":\"auto\",\"active_tap\":\"auto\",\"tools\":[{\"id\":\"e0a61b25-5d84-4799-8492-988caa3ba833\",\"type\":\"PanTool\"},{\"id\":\"f2ec3fe9-92f9-41bf-b7dc-0746f6abe900\",\"type\":\"WheelZoomTool\"},{\"id\":\"2a0ea984-a0e5-440d-90af-3ac2b4d50cd1\",\"type\":\"BoxZoomTool\"},{\"id\":\"1bff8fcf-58f2-4591-b6c4-e875b4c1ebe7\",\"type\":\"SaveTool\"},{\"id\":\"fcf0fd79-8bdc-49c5-812e-cbfb56415afb\",\"type\":\"ResetTool\"},{\"id\":\"20efd948-cb4d-44f0-9514-7800ae02e7f5\",\"type\":\"HelpTool\"}]},\"id\":\"89376911-039b-4c12-99a3-1c41bbe7e7d1\",\"type\":\"Toolbar\"},{\"attributes\":{},\"id\":\"1bff8fcf-58f2-4591-b6c4-e875b4c1ebe7\",\"type\":\"SaveTool\"},{\"attributes\":{\"plot\":{\"id\":\"756bf362-330e-4d17-a0d7-237cdc2047da\",\"subtype\":\"Figure\",\"type\":\"Plot\"},\"ticker\":{\"id\":\"7d99b47c-c909-46f8-b72f-1be426160682\",\"type\":\"BasicTicker\"}},\"id\":\"f27f0c67-dcfd-450e-ac84-80f80b9ef2b8\",\"type\":\"Grid\"},{\"attributes\":{\"overlay\":{\"id\":\"bacc07d1-0cf4-415d-9af3-cdf10bacbffe\",\"type\":\"BoxAnnotation\"}},\"id\":\"2a0ea984-a0e5-440d-90af-3ac2b4d50cd1\",\"type\":\"BoxZoomTool\"},{\"attributes\":{\"fields\":[\"Hombres\",\"Mujeres\"]},\"id\":\"15565de6-c66e-4b39-96b0-cef44fdb02b6\",\"type\":\"Stack\"},{\"attributes\":{\"data_source\":{\"id\":\"4d286d2a-f0e0-41e4-8a19-40925bc111b2\",\"type\":\"ColumnDataSource\"},\"glyph\":{\"id\":\"26480c39-aad5-4baf-8ff8-71f9608f9e21\",\"type\":\"HBar\"},\"hover_glyph\":null,\"muted_glyph\":null,\"nonselection_glyph\":{\"id\":\"b22459cd-74f7-4dfe-b233-17265c53116c\",\"type\":\"HBar\"},\"selection_glyph\":null,\"view\":{\"id\":\"d23422f2-bd17-4799-a15b-867d9ad0ab72\",\"type\":\"CDSView\"}},\"id\":\"943196fd-b352-461b-acbf-ebbd19e973d2\",\"type\":\"GlyphRenderer\"}],\"root_ids\":[\"756bf362-330e-4d17-a0d7-237cdc2047da\"]},\"title\":\"Bokeh Application\",\"version\":\"0.12.11\"}};\n",
       "    var render_items = [{\"docid\":\"9eadac6e-fc22-487e-9652-944f9cc1ec62\",\"elementid\":\"2159d584-4246-42cc-8e16-a44c95ea89d9\",\"modelid\":\"756bf362-330e-4d17-a0d7-237cdc2047da\"}];\n",
       "    root.Bokeh.embed.embed_items(docs_json, render_items);\n",
       "  }\n",
       "  if (root.Bokeh !== undefined) {\n",
       "    embed_document(root);\n",
       "  } else {\n",
       "    var attempts = 0;\n",
       "    var timer = setInterval(function(root) {\n",
       "      if (root.Bokeh !== undefined) {\n",
       "        embed_document(root);\n",
       "        clearInterval(timer);\n",
       "      }\n",
       "      attempts++;\n",
       "      if (attempts > 100) {\n",
       "        console.log(\"Bokeh: ERROR: Unable to embed document because BokehJS library is missing\")\n",
       "        clearInterval(timer);\n",
       "      }\n",
       "    }, 10, root)\n",
       "  }\n",
       "})(window);"
      ],
      "application/vnd.bokehjs_exec.v0+json": ""
     },
     "metadata": {
      "application/vnd.bokehjs_exec.v0+json": {
       "id": "756bf362-330e-4d17-a0d7-237cdc2047da"
      }
     },
     "output_type": "display_data"
    }
   ],
   "source": [
    "# con ayuda de bokeh podemos obtener varios tipos de graficos\n",
    "# https://bokeh.pydata.org/en/latest/docs/gallery.html\n",
    "# En esta ocasion utilizaremos un grafico de barras horizontales para presentar la poblacion de hombres y mujeres\n",
    "from bokeh.io import output_file, show\n",
    "from bokeh.models import ColumnDataSource\n",
    "from bokeh.palettes import GnBu3, OrRd3\n",
    "from bokeh.plotting import figure\n",
    "\n",
    "output_file(\"Censo del 2010 de la Sierra.html\")\n",
    "\n",
    "fruits = ['Azuay', 'Bolivar', 'Cañar', 'Carchi', 'Cotopaxi', 'Chimborazo', 'Imbabura', 'Loja', 'Pichincha', 'Tungurahua']\n",
    "years = [\"Hombres\", \"Mujeres\"]\n",
    "colors = [\"red\", \"blue\"]\n",
    "\n",
    "exports = {'fruits' : fruits,\n",
    "           'Hombres'   : [337044, 89875,105235, 81155, 198625, 219401,193664,220794,1255711,244783],\n",
    "           'Mujeres'   : [375083, 93766, 119949, 83369, 210580, 239180,204580,228172,1320576,259800]}\n",
    "\n",
    "p = figure(y_range=fruits, plot_height=350, x_range=(0, 2800000), title=\"Poblacion del 2010 de la Sierra \",\n",
    "           toolbar_location=None)\n",
    "\n",
    "p.hbar_stack(years, y='fruits', height=0.9, color=colors, source=ColumnDataSource(exports),\n",
    "             legend=[value(x)  for x in years])\n",
    "\n",
    "\n",
    "p.y_range.range_padding = 0.1\n",
    "p.ygrid.grid_line_color = None\n",
    "p.legend.location = \"bottom_right\"\n",
    "p.axis.minor_tick_line_color = None\n",
    "p.outline_line_color = None\n",
    "\n",
    "show(p)"
   ]
  },
  {
   "cell_type": "code",
   "execution_count": 39,
   "metadata": {},
   "outputs": [
    {
     "ename": "NameError",
     "evalue": "name 'tabla1' is not defined",
     "output_type": "error",
     "traceback": [
      "\u001b[0;31m---------------------------------------------------------------------------\u001b[0m",
      "\u001b[0;31mNameError\u001b[0m                                 Traceback (most recent call last)",
      "\u001b[0;32m<ipython-input-39-0849887be7b1>\u001b[0m in \u001b[0;36m<module>\u001b[0;34m()\u001b[0m\n\u001b[1;32m      1\u001b[0m \u001b[0;31m# con ayuda de .iloc podemos recorrer el indice de cada dato asi podemos llamar solo a los que necesitamos\u001b[0m\u001b[0;34m\u001b[0m\u001b[0;34m\u001b[0m\u001b[0m\n\u001b[1;32m      2\u001b[0m \u001b[0;31m# en esta ocacion llamaremos  a todas provincias de la region del oriente  del ecuador en 2010\u001b[0m\u001b[0;34m\u001b[0m\u001b[0;34m\u001b[0m\u001b[0m\n\u001b[0;32m----> 3\u001b[0;31m \u001b[0mtabla1\u001b[0m\u001b[0;34m.\u001b[0m \u001b[0miloc\u001b[0m \u001b[0;34m[\u001b[0m\u001b[0;34m[\u001b[0m \u001b[0;36m918\u001b[0m \u001b[0;34m,\u001b[0m  \u001b[0;36m947\u001b[0m\u001b[0;34m,\u001b[0m\u001b[0;36m973\u001b[0m\u001b[0;34m,\u001b[0m\u001b[0;36m1150\u001b[0m\u001b[0;34m,\u001b[0m\u001b[0;36m1203\u001b[0m \u001b[0;34m,\u001b[0m\u001b[0;36m1241\u001b[0m\u001b[0;34m]\u001b[0m\u001b[0;34m,\u001b[0m  \u001b[0;34m[\u001b[0m\u001b[0;36m0\u001b[0m\u001b[0;34m,\u001b[0m \u001b[0;36m1\u001b[0m\u001b[0;34m,\u001b[0m\u001b[0;36m3\u001b[0m\u001b[0;34m,\u001b[0m\u001b[0;36m4\u001b[0m \u001b[0;34m]\u001b[0m\u001b[0;34m]\u001b[0m\u001b[0;34m\u001b[0m\u001b[0m\n\u001b[0m",
      "\u001b[0;31mNameError\u001b[0m: name 'tabla1' is not defined"
     ]
    }
   ],
   "source": [
    "# con ayuda de .iloc podemos recorrer el indice de cada dato asi podemos llamar solo a los que necesitamos\n",
    "# en esta ocacion llamaremos  a todas provincias de la region del oriente  del ecuador en 2010\n",
    "tabla1. iloc [[ 918 ,  947,973,1150,1203 ,1241],  [0, 1,3,4 ]] "
   ]
  },
  {
   "cell_type": "code",
   "execution_count": 40,
   "metadata": {},
   "outputs": [
    {
     "data": {
      "text/html": [
       "\n",
       "<div class=\"bk-root\">\n",
       "    <div class=\"bk-plotdiv\" id=\"7fba5654-8a8f-45c4-8a62-e934fa6c249f\"></div>\n",
       "</div>"
      ]
     },
     "metadata": {},
     "output_type": "display_data"
    },
    {
     "data": {
      "application/javascript": [
       "(function(root) {\n",
       "  function embed_document(root) {\n",
       "    var docs_json = {\"2bb294ea-ab66-4ef8-a639-df319e017616\":{\"roots\":{\"references\":[{\"attributes\":{},\"id\":\"e97d3b6a-b119-479e-9da1-7c301e1fe91c\",\"type\":\"CategoricalTickFormatter\"},{\"attributes\":{\"active_drag\":\"auto\",\"active_inspect\":\"auto\",\"active_scroll\":\"auto\",\"active_tap\":\"auto\"},\"id\":\"2ab92ac8-5f67-454a-acfc-8f9b4240c434\",\"type\":\"Toolbar\"},{\"attributes\":{\"dimension\":1,\"plot\":{\"id\":\"bb8c651f-eaef-4f7b-b8f7-006c1855e3ac\",\"subtype\":\"Figure\",\"type\":\"Plot\"},\"ticker\":{\"id\":\"4ac2177e-d054-4989-bcca-cc3ec3713cd4\",\"type\":\"BasicTicker\"}},\"id\":\"046989bd-534c-47f1-a549-7e04672f58ca\",\"type\":\"Grid\"},{\"attributes\":{\"data_source\":{\"id\":\"62dffde2-3d2a-4d54-a958-e00ce0b5e5dc\",\"type\":\"ColumnDataSource\"},\"glyph\":{\"id\":\"e5b888b7-71c6-4f83-959b-844750fb28c1\",\"type\":\"VBar\"},\"hover_glyph\":null,\"muted_glyph\":null,\"nonselection_glyph\":{\"id\":\"852f495c-5a74-4be0-b630-982e34b0cbf2\",\"type\":\"VBar\"},\"selection_glyph\":null,\"view\":{\"id\":\"8a1af048-ece1-4ce1-9976-6d28b69e733d\",\"type\":\"CDSView\"}},\"id\":\"62eaf9e7-2e05-47f8-9aa0-e017c272f062\",\"type\":\"GlyphRenderer\"},{\"attributes\":{\"below\":[{\"id\":\"f7efc912-b3ee-452b-a2a7-4be4489da876\",\"type\":\"CategoricalAxis\"}],\"left\":[{\"id\":\"627fa440-1594-4b9b-a05d-9645543679af\",\"type\":\"LinearAxis\"}],\"plot_height\":350,\"renderers\":[{\"id\":\"f7efc912-b3ee-452b-a2a7-4be4489da876\",\"type\":\"CategoricalAxis\"},{\"id\":\"a929198f-8886-4b0e-9bfd-700f647dedac\",\"type\":\"Grid\"},{\"id\":\"627fa440-1594-4b9b-a05d-9645543679af\",\"type\":\"LinearAxis\"},{\"id\":\"046989bd-534c-47f1-a549-7e04672f58ca\",\"type\":\"Grid\"},{\"id\":\"62eaf9e7-2e05-47f8-9aa0-e017c272f062\",\"type\":\"GlyphRenderer\"}],\"title\":{\"id\":\"963b67d9-7e75-4d65-9219-36fc0f4127e1\",\"type\":\"Title\"},\"toolbar\":{\"id\":\"2ab92ac8-5f67-454a-acfc-8f9b4240c434\",\"type\":\"Toolbar\"},\"toolbar_location\":null,\"x_range\":{\"id\":\"df44034f-96a9-4e7b-831e-4b53e3a4df4f\",\"type\":\"FactorRange\"},\"x_scale\":{\"id\":\"ab6f70a3-8cb1-4087-83ad-3f99cc42823d\",\"type\":\"CategoricalScale\"},\"y_range\":{\"id\":\"06575a39-0f8e-4e86-8c05-7e28385591f3\",\"type\":\"DataRange1d\"},\"y_scale\":{\"id\":\"42c77c60-8056-411b-8a31-bbd67b04e38d\",\"type\":\"LinearScale\"}},\"id\":\"bb8c651f-eaef-4f7b-b8f7-006c1855e3ac\",\"subtype\":\"Figure\",\"type\":\"Plot\"},{\"attributes\":{},\"id\":\"362836a4-848b-40e2-9381-ad65e1d2b3f7\",\"type\":\"BasicTickFormatter\"},{\"attributes\":{\"fill_alpha\":{\"value\":0.5},\"fill_color\":{\"value\":\"#1f77b4\"},\"line_alpha\":{\"value\":0.5},\"line_color\":{\"value\":\"#1f77b4\"},\"top\":{\"field\":\"top\"},\"width\":{\"value\":0.9},\"x\":{\"field\":\"x\"}},\"id\":\"e5b888b7-71c6-4f83-959b-844750fb28c1\",\"type\":\"VBar\"},{\"attributes\":{\"callback\":null,\"start\":0},\"id\":\"06575a39-0f8e-4e86-8c05-7e28385591f3\",\"type\":\"DataRange1d\"},{\"attributes\":{\"callback\":null,\"factors\":[[\"Morona Santiago\",\"Hombre\"],[\"Morona Santiago\",\"Mujer\"],[\"Napo\",\"Hombre\"],[\"Napo\",\"Mujer\"],[\"Pastaza\",\"Hombre\"],[\"Pastaza\",\"Mujer\"],[\"Zamora Chinchipe\",\"Hombre\"],[\"Zamora Chinchipe\",\"Mujer\"],[\"Sucumb\\u00edos\",\"Hombre\"],[\"Sucumb\\u00edos\",\"Mujer\"],[\"Orellana\",\"Hombre\"],[\"Orellana\",\"Mujer\"]],\"range_padding\":0.1},\"id\":\"df44034f-96a9-4e7b-831e-4b53e3a4df4f\",\"type\":\"FactorRange\"},{\"attributes\":{},\"id\":\"ab6f70a3-8cb1-4087-83ad-3f99cc42823d\",\"type\":\"CategoricalScale\"},{\"attributes\":{},\"id\":\"42c77c60-8056-411b-8a31-bbd67b04e38d\",\"type\":\"LinearScale\"},{\"attributes\":{},\"id\":\"9b9fcc90-10ea-4783-9b37-1635663846dd\",\"type\":\"CategoricalTicker\"},{\"attributes\":{\"callback\":null,\"column_names\":[\"x\",\"top\"],\"data\":{\"top\":[74849,73091,52774,50923,42260,41673,47452,43924,92848,83624,72130,64266],\"x\":[[\"Morona Santiago\",\"Hombre\"],[\"Morona Santiago\",\"Mujer\"],[\"Napo\",\"Hombre\"],[\"Napo\",\"Mujer\"],[\"Pastaza\",\"Hombre\"],[\"Pastaza\",\"Mujer\"],[\"Zamora Chinchipe\",\"Hombre\"],[\"Zamora Chinchipe\",\"Mujer\"],[\"Sucumb\\u00edos\",\"Hombre\"],[\"Sucumb\\u00edos\",\"Mujer\"],[\"Orellana\",\"Hombre\"],[\"Orellana\",\"Mujer\"]]}},\"id\":\"62dffde2-3d2a-4d54-a958-e00ce0b5e5dc\",\"type\":\"ColumnDataSource\"},{\"attributes\":{\"formatter\":{\"id\":\"e97d3b6a-b119-479e-9da1-7c301e1fe91c\",\"type\":\"CategoricalTickFormatter\"},\"major_label_orientation\":1,\"plot\":{\"id\":\"bb8c651f-eaef-4f7b-b8f7-006c1855e3ac\",\"subtype\":\"Figure\",\"type\":\"Plot\"},\"ticker\":{\"id\":\"9b9fcc90-10ea-4783-9b37-1635663846dd\",\"type\":\"CategoricalTicker\"}},\"id\":\"f7efc912-b3ee-452b-a2a7-4be4489da876\",\"type\":\"CategoricalAxis\"},{\"attributes\":{\"plot\":null,\"text\":\"Poblacion del 2010 del oriente \"},\"id\":\"963b67d9-7e75-4d65-9219-36fc0f4127e1\",\"type\":\"Title\"},{\"attributes\":{\"grid_line_color\":{\"value\":null},\"plot\":{\"id\":\"bb8c651f-eaef-4f7b-b8f7-006c1855e3ac\",\"subtype\":\"Figure\",\"type\":\"Plot\"},\"ticker\":{\"id\":\"9b9fcc90-10ea-4783-9b37-1635663846dd\",\"type\":\"CategoricalTicker\"}},\"id\":\"a929198f-8886-4b0e-9bfd-700f647dedac\",\"type\":\"Grid\"},{\"attributes\":{},\"id\":\"4ac2177e-d054-4989-bcca-cc3ec3713cd4\",\"type\":\"BasicTicker\"},{\"attributes\":{\"fill_alpha\":{\"value\":0.1},\"fill_color\":{\"value\":\"#1f77b4\"},\"line_alpha\":{\"value\":0.1},\"line_color\":{\"value\":\"#1f77b4\"},\"top\":{\"field\":\"top\"},\"width\":{\"value\":0.9},\"x\":{\"field\":\"x\"}},\"id\":\"852f495c-5a74-4be0-b630-982e34b0cbf2\",\"type\":\"VBar\"},{\"attributes\":{\"source\":{\"id\":\"62dffde2-3d2a-4d54-a958-e00ce0b5e5dc\",\"type\":\"ColumnDataSource\"}},\"id\":\"8a1af048-ece1-4ce1-9976-6d28b69e733d\",\"type\":\"CDSView\"},{\"attributes\":{\"formatter\":{\"id\":\"362836a4-848b-40e2-9381-ad65e1d2b3f7\",\"type\":\"BasicTickFormatter\"},\"plot\":{\"id\":\"bb8c651f-eaef-4f7b-b8f7-006c1855e3ac\",\"subtype\":\"Figure\",\"type\":\"Plot\"},\"ticker\":{\"id\":\"4ac2177e-d054-4989-bcca-cc3ec3713cd4\",\"type\":\"BasicTicker\"}},\"id\":\"627fa440-1594-4b9b-a05d-9645543679af\",\"type\":\"LinearAxis\"}],\"root_ids\":[\"bb8c651f-eaef-4f7b-b8f7-006c1855e3ac\"]},\"title\":\"Bokeh Application\",\"version\":\"0.12.11\"}};\n",
       "    var render_items = [{\"docid\":\"2bb294ea-ab66-4ef8-a639-df319e017616\",\"elementid\":\"7fba5654-8a8f-45c4-8a62-e934fa6c249f\",\"modelid\":\"bb8c651f-eaef-4f7b-b8f7-006c1855e3ac\"}];\n",
       "    root.Bokeh.embed.embed_items(docs_json, render_items);\n",
       "  }\n",
       "  if (root.Bokeh !== undefined) {\n",
       "    embed_document(root);\n",
       "  } else {\n",
       "    var attempts = 0;\n",
       "    var timer = setInterval(function(root) {\n",
       "      if (root.Bokeh !== undefined) {\n",
       "        embed_document(root);\n",
       "        clearInterval(timer);\n",
       "      }\n",
       "      attempts++;\n",
       "      if (attempts > 100) {\n",
       "        console.log(\"Bokeh: ERROR: Unable to embed document because BokehJS library is missing\")\n",
       "        clearInterval(timer);\n",
       "      }\n",
       "    }, 10, root)\n",
       "  }\n",
       "})(window);"
      ],
      "application/vnd.bokehjs_exec.v0+json": ""
     },
     "metadata": {
      "application/vnd.bokehjs_exec.v0+json": {
       "id": "bb8c651f-eaef-4f7b-b8f7-006c1855e3ac"
      }
     },
     "output_type": "display_data"
    }
   ],
   "source": [
    "# con ayuda de bokeh podemos obtener varios tipos de graficos\n",
    "# https://bokeh.pydata.org/en/latest/docs/gallery.html\n",
    "# En esta ocasion utilizaremos un grafico de barras verticales para presentar la poblacion de hombres y mujeres\n",
    "from bokeh.io import show, output_file\n",
    "from bokeh.models import FactorRange\n",
    "from bokeh.plotting import figure\n",
    "\n",
    "output_file(\"provincias del oriente.html\")\n",
    "\n",
    "factors = [\n",
    "    (\"Morona Santiago\", \"Hombre\"), (\"Morona Santiago\", \"Mujer\"),\n",
    "    (\"Napo\", \"Hombre\"), (\"Napo\", \"Mujer\"),\n",
    "    (\"Pastaza\", \"Hombre\"), (\"Pastaza\", \"Mujer\"),\n",
    "    (\"Zamora Chinchipe\", \"Hombre\"), (\"Zamora Chinchipe\", \"Mujer\"),\n",
    "    (\"Sucumbíos\", \"Hombre\"), (\"Sucumbíos\", \"Mujer\"),\n",
    "    (\"Orellana\", \"Hombre\"), (\"Orellana\", \"Mujer\"),\n",
    "\n",
    "]\n",
    "\n",
    "p = figure(x_range=FactorRange(*factors), plot_height=350,\n",
    "           toolbar_location=None, tools=\"\",title=\"Poblacion del 2010 del oriente \")\n",
    "\n",
    "\n",
    "x = [ 74849, 73091, 52774, 50923, 42260, 41673, 47452, 43924, 92848, 83624, 72130, 64266 ]\n",
    "p.vbar(x=factors, top=x, width=0.9, alpha=0.5)\n",
    "\n",
    "\n",
    "p.y_range.start = 0\n",
    "p.x_range.range_padding = 0.1\n",
    "p.xaxis.major_label_orientation = 1\n",
    "p.xgrid.grid_line_color = None\n",
    "\n",
    "show(p)"
   ]
  },
  {
   "cell_type": "code",
   "execution_count": 41,
   "metadata": {},
   "outputs": [
    {
     "ename": "NameError",
     "evalue": "name 'tabla1' is not defined",
     "output_type": "error",
     "traceback": [
      "\u001b[0;31m---------------------------------------------------------------------------\u001b[0m",
      "\u001b[0;31mNameError\u001b[0m                                 Traceback (most recent call last)",
      "\u001b[0;32m<ipython-input-41-721d0e962a8d>\u001b[0m in \u001b[0;36m<module>\u001b[0;34m()\u001b[0m\n\u001b[1;32m      1\u001b[0m \u001b[0;31m# con ayuda de .iloc podemos recorrer el indice de cada dato asi podemos llamar solo a los que necesitamos\u001b[0m\u001b[0;34m\u001b[0m\u001b[0;34m\u001b[0m\u001b[0m\n\u001b[1;32m      2\u001b[0m \u001b[0;31m# en esta ocacion llamaremos  a todas provincias del ecuador en 2010 con el total de su poblacion\u001b[0m\u001b[0;34m\u001b[0m\u001b[0;34m\u001b[0m\u001b[0m\n\u001b[0;32m----> 3\u001b[0;31m \u001b[0mtabla1\u001b[0m\u001b[0;34m.\u001b[0m \u001b[0miloc\u001b[0m \u001b[0;34m[\u001b[0m\u001b[0;34m[\u001b[0m \u001b[0;36m90\u001b[0m\u001b[0;34m,\u001b[0m\u001b[0;36m124\u001b[0m\u001b[0;34m,\u001b[0m\u001b[0;36m165\u001b[0m \u001b[0;34m,\u001b[0m \u001b[0;36m205\u001b[0m\u001b[0;34m,\u001b[0m \u001b[0;36m253\u001b[0m\u001b[0;34m,\u001b[0m \u001b[0;36m319\u001b[0m\u001b[0;34m,\u001b[0m \u001b[0;36m397\u001b[0m\u001b[0;34m,\u001b[0m \u001b[0;36m470\u001b[0m\u001b[0;34m,\u001b[0m\u001b[0;36m550\u001b[0m\u001b[0;34m,\u001b[0m\u001b[0;36m599\u001b[0m\u001b[0;34m,\u001b[0m\u001b[0;36m708\u001b[0m\u001b[0;34m,\u001b[0m\u001b[0;36m749\u001b[0m\u001b[0;34m,\u001b[0m\u001b[0;36m847\u001b[0m\u001b[0;34m,\u001b[0m\u001b[0;36m918\u001b[0m\u001b[0;34m,\u001b[0m\u001b[0;36m947\u001b[0m\u001b[0;34m,\u001b[0m \u001b[0;36m973\u001b[0m \u001b[0;34m,\u001b[0m\u001b[0;36m1042\u001b[0m\u001b[0;34m,\u001b[0m\u001b[0;36m1105\u001b[0m\u001b[0;34m,\u001b[0m\u001b[0;36m1150\u001b[0m\u001b[0;34m,\u001b[0m\u001b[0;36m1162\u001b[0m\u001b[0;34m,\u001b[0m\u001b[0;36m1203\u001b[0m\u001b[0;34m,\u001b[0m\u001b[0;36m1241\u001b[0m\u001b[0;34m,\u001b[0m\u001b[0;36m1251\u001b[0m\u001b[0;34m,\u001b[0m\u001b[0;36m1266\u001b[0m\u001b[0;34m,\u001b[0m\u001b[0;36m1273\u001b[0m \u001b[0;34m]\u001b[0m\u001b[0;34m,\u001b[0m  \u001b[0;34m[\u001b[0m\u001b[0;36m0\u001b[0m\u001b[0;34m,\u001b[0m \u001b[0;36m5\u001b[0m\u001b[0;34m]\u001b[0m\u001b[0;34m]\u001b[0m\u001b[0;34m\u001b[0m\u001b[0m\n\u001b[0m",
      "\u001b[0;31mNameError\u001b[0m: name 'tabla1' is not defined"
     ]
    }
   ],
   "source": [
    "# con ayuda de .iloc podemos recorrer el indice de cada dato asi podemos llamar solo a los que necesitamos\n",
    "# en esta ocacion llamaremos  a todas provincias del ecuador en 2010 con el total de su poblacion\n",
    "tabla1. iloc [[ 90,124,165 , 205, 253, 319, 397, 470,550,599,708,749,847,918,947, 973 ,1042,1105,1150,1162,1203,1241,1251,1266,1273 ],  [0, 5]] "
   ]
  },
  {
   "cell_type": "code",
   "execution_count": 42,
   "metadata": {},
   "outputs": [],
   "source": [
    "from bokeh.io import  show, output_file"
   ]
  },
  {
   "cell_type": "code",
   "execution_count": 43,
   "metadata": {},
   "outputs": [
    {
     "data": {
      "text/html": [
       "\n",
       "<div class=\"bk-root\">\n",
       "    <div class=\"bk-plotdiv\" id=\"d73ede36-e679-4d53-bcb6-7c61091ff2e7\"></div>\n",
       "</div>"
      ]
     },
     "metadata": {},
     "output_type": "display_data"
    },
    {
     "data": {
      "application/javascript": [
       "(function(root) {\n",
       "  function embed_document(root) {\n",
       "    var docs_json = {\"4cfcaa72-d040-4549-ac5e-af574de4e1de\":{\"roots\":{\"references\":[{\"attributes\":{},\"id\":\"9d749767-a7ac-479e-b652-2e9f517ac11c\",\"type\":\"CategoricalTickFormatter\"},{\"attributes\":{\"callback\":null,\"column_names\":[\"y\",\"x\"],\"data\":{\"x\":[712127,183641,225184,164524,409205,458581,600659,534092,3645483,398244,448966,778115,1369780,147940,103697,83933,2576287,504583,91376,25124,176472,136396,368013,308693,32384],\"y\":[\"Azuay\",\"Bolivar\",\"Ca\\u00f1ar\",\"Carchi\",\"Cotopaxi\",\"Chimborazo\",\"El Oro\",\"Esmeraldas\",\"Guayas\",\"Imbabura\",\"Loja\",\"Los Rios\",\"Manabi\",\"Morona Santiago\",\"Napo\",\"Pastaza\",\"Pichincha\",\"Tungurahua\",\"Zamora Chinchipe\",\"Gal\\u00e1pagos\",\"Sucumb\\u00edos\",\"Orellana\",\"Santo Domingo\",\"Santa Elena\",\"Zonas No Delimitadas\"]}},\"id\":\"d7f92855-bca7-464e-909f-bb27e0e4c3cb\",\"type\":\"ColumnDataSource\"},{\"attributes\":{\"data_source\":{\"id\":\"fdc9e002-e8fb-4b51-828f-b7ffabbbccf5\",\"type\":\"ColumnDataSource\"},\"glyph\":{\"id\":\"a3c0a143-0e3b-4629-81df-54d3fed3902b\",\"type\":\"Segment\"},\"hover_glyph\":null,\"muted_glyph\":null,\"nonselection_glyph\":{\"id\":\"d05fa306-ce99-4c97-9f14-9d606404a2c8\",\"type\":\"Segment\"},\"selection_glyph\":null,\"view\":{\"id\":\"dc32b257-3b53-4636-9658-af21f3859afd\",\"type\":\"CDSView\"}},\"id\":\"dd2a2f6e-680a-4b67-aa3e-afb464216d8f\",\"type\":\"GlyphRenderer\"},{\"attributes\":{\"line_alpha\":{\"value\":0.1},\"line_color\":{\"value\":\"#1f77b4\"},\"line_width\":{\"value\":2},\"x0\":{\"value\":0},\"x1\":{\"field\":\"x1\"},\"y0\":{\"field\":\"y0\"},\"y1\":{\"field\":\"y1\"}},\"id\":\"d05fa306-ce99-4c97-9f14-9d606404a2c8\",\"type\":\"Segment\"},{\"attributes\":{\"plot\":{\"id\":\"0f55ef04-2055-41e5-9a07-3278c0256fca\",\"subtype\":\"Figure\",\"type\":\"Plot\"},\"ticker\":{\"id\":\"e1278ffe-c9ea-46cd-a6ce-0624560addb4\",\"type\":\"BasicTicker\"}},\"id\":\"b59e10e8-74e4-4d14-be42-22e565327e3e\",\"type\":\"Grid\"},{\"attributes\":{\"fill_color\":{\"value\":\"orange\"},\"line_color\":{\"value\":\"green\"},\"line_width\":{\"value\":5},\"size\":{\"units\":\"screen\",\"value\":15},\"x\":{\"field\":\"x\"},\"y\":{\"field\":\"y\"}},\"id\":\"e620bdb6-fa40-416b-a993-ad501d2cc62b\",\"type\":\"Circle\"},{\"attributes\":{\"source\":{\"id\":\"d7f92855-bca7-464e-909f-bb27e0e4c3cb\",\"type\":\"ColumnDataSource\"}},\"id\":\"3a1dfd6d-e1a6-42a6-a1be-a34472bad3f5\",\"type\":\"CDSView\"},{\"attributes\":{},\"id\":\"1c32a3d3-649b-4cae-a10f-bdb67cc1d1f4\",\"type\":\"LinearScale\"},{\"attributes\":{},\"id\":\"bfce7755-a903-4b35-952d-4be7c0544b57\",\"type\":\"CategoricalScale\"},{\"attributes\":{\"fill_alpha\":{\"value\":0.1},\"fill_color\":{\"value\":\"#1f77b4\"},\"line_alpha\":{\"value\":0.1},\"line_color\":{\"value\":\"#1f77b4\"},\"line_width\":{\"value\":5},\"size\":{\"units\":\"screen\",\"value\":15},\"x\":{\"field\":\"x\"},\"y\":{\"field\":\"y\"}},\"id\":\"1b8e7dd8-0aee-488b-af52-704d1a828295\",\"type\":\"Circle\"},{\"attributes\":{\"below\":[{\"id\":\"2833c999-be2c-471c-9937-875b490fa99c\",\"type\":\"LinearAxis\"}],\"left\":[{\"id\":\"82299f26-bc67-4fd2-99e2-a9d8a0a72e91\",\"type\":\"CategoricalAxis\"}],\"renderers\":[{\"id\":\"2833c999-be2c-471c-9937-875b490fa99c\",\"type\":\"LinearAxis\"},{\"id\":\"b59e10e8-74e4-4d14-be42-22e565327e3e\",\"type\":\"Grid\"},{\"id\":\"82299f26-bc67-4fd2-99e2-a9d8a0a72e91\",\"type\":\"CategoricalAxis\"},{\"id\":\"c9fe2359-c8b7-458a-8c3f-79294e8c8872\",\"type\":\"Grid\"},{\"id\":\"dd2a2f6e-680a-4b67-aa3e-afb464216d8f\",\"type\":\"GlyphRenderer\"},{\"id\":\"565bcfc0-7990-46d4-a800-2ca741977246\",\"type\":\"GlyphRenderer\"}],\"sizing_mode\":\"scale_width\",\"title\":{\"id\":\"5ab2be06-ba44-4283-ad73-cb186240d177\",\"type\":\"Title\"},\"toolbar\":{\"id\":\"3f5aaa26-3145-4888-b6c7-6afcaf4f83a2\",\"type\":\"Toolbar\"},\"toolbar_location\":null,\"x_range\":{\"id\":\"f7819be1-e29d-45aa-a76c-f0260e3625b4\",\"type\":\"Range1d\"},\"x_scale\":{\"id\":\"1c32a3d3-649b-4cae-a10f-bdb67cc1d1f4\",\"type\":\"LinearScale\"},\"y_range\":{\"id\":\"9dcde548-adcc-4087-a85f-302b68cd8773\",\"type\":\"FactorRange\"},\"y_scale\":{\"id\":\"bfce7755-a903-4b35-952d-4be7c0544b57\",\"type\":\"CategoricalScale\"}},\"id\":\"0f55ef04-2055-41e5-9a07-3278c0256fca\",\"subtype\":\"Figure\",\"type\":\"Plot\"},{\"attributes\":{\"source\":{\"id\":\"fdc9e002-e8fb-4b51-828f-b7ffabbbccf5\",\"type\":\"ColumnDataSource\"}},\"id\":\"dc32b257-3b53-4636-9658-af21f3859afd\",\"type\":\"CDSView\"},{\"attributes\":{\"callback\":null,\"column_names\":[\"x1\",\"y1\",\"y0\"],\"data\":{\"x1\":[712127,183641,225184,164524,409205,458581,600659,534092,3645483,398244,448966,778115,1369780,147940,103697,83933,2576287,504583,91376,25124,176472,136396,368013,308693,32384],\"y0\":[\"Azuay\",\"Bolivar\",\"Ca\\u00f1ar\",\"Carchi\",\"Cotopaxi\",\"Chimborazo\",\"El Oro\",\"Esmeraldas\",\"Guayas\",\"Imbabura\",\"Loja\",\"Los Rios\",\"Manabi\",\"Morona Santiago\",\"Napo\",\"Pastaza\",\"Pichincha\",\"Tungurahua\",\"Zamora Chinchipe\",\"Gal\\u00e1pagos\",\"Sucumb\\u00edos\",\"Orellana\",\"Santo Domingo\",\"Santa Elena\",\"Zonas No Delimitadas\"],\"y1\":[\"Azuay\",\"Bolivar\",\"Ca\\u00f1ar\",\"Carchi\",\"Cotopaxi\",\"Chimborazo\",\"El Oro\",\"Esmeraldas\",\"Guayas\",\"Imbabura\",\"Loja\",\"Los Rios\",\"Manabi\",\"Morona Santiago\",\"Napo\",\"Pastaza\",\"Pichincha\",\"Tungurahua\",\"Zamora Chinchipe\",\"Gal\\u00e1pagos\",\"Sucumb\\u00edos\",\"Orellana\",\"Santo Domingo\",\"Santa Elena\",\"Zonas No Delimitadas\"]}},\"id\":\"fdc9e002-e8fb-4b51-828f-b7ffabbbccf5\",\"type\":\"ColumnDataSource\"},{\"attributes\":{\"plot\":null,\"text\":\"Total de poblacion por provincia\"},\"id\":\"5ab2be06-ba44-4283-ad73-cb186240d177\",\"type\":\"Title\"},{\"attributes\":{},\"id\":\"e1278ffe-c9ea-46cd-a6ce-0624560addb4\",\"type\":\"BasicTicker\"},{\"attributes\":{},\"id\":\"0d34568f-c2d2-455a-ba03-00fd3d981458\",\"type\":\"BasicTickFormatter\"},{\"attributes\":{\"callback\":null,\"factors\":[\"Azuay\",\"Bolivar\",\"Ca\\u00f1ar\",\"Carchi\",\"Cotopaxi\",\"Chimborazo\",\"El Oro\",\"Esmeraldas\",\"Guayas\",\"Imbabura\",\"Loja\",\"Los Rios\",\"Manabi\",\"Morona Santiago\",\"Napo\",\"Pastaza\",\"Pichincha\",\"Tungurahua\",\"Zamora Chinchipe\",\"Gal\\u00e1pagos\",\"Sucumb\\u00edos\",\"Orellana\",\"Santo Domingo\",\"Santa Elena\",\"Zonas No Delimitadas\"]},\"id\":\"9dcde548-adcc-4087-a85f-302b68cd8773\",\"type\":\"FactorRange\"},{\"attributes\":{\"dimension\":1,\"plot\":{\"id\":\"0f55ef04-2055-41e5-9a07-3278c0256fca\",\"subtype\":\"Figure\",\"type\":\"Plot\"},\"ticker\":{\"id\":\"e86adfda-2b6f-4166-bff9-94a5d0ac9abc\",\"type\":\"CategoricalTicker\"}},\"id\":\"c9fe2359-c8b7-458a-8c3f-79294e8c8872\",\"type\":\"Grid\"},{\"attributes\":{\"formatter\":{\"id\":\"9d749767-a7ac-479e-b652-2e9f517ac11c\",\"type\":\"CategoricalTickFormatter\"},\"plot\":{\"id\":\"0f55ef04-2055-41e5-9a07-3278c0256fca\",\"subtype\":\"Figure\",\"type\":\"Plot\"},\"ticker\":{\"id\":\"e86adfda-2b6f-4166-bff9-94a5d0ac9abc\",\"type\":\"CategoricalTicker\"}},\"id\":\"82299f26-bc67-4fd2-99e2-a9d8a0a72e91\",\"type\":\"CategoricalAxis\"},{\"attributes\":{\"active_drag\":\"auto\",\"active_inspect\":\"auto\",\"active_scroll\":\"auto\",\"active_tap\":\"auto\"},\"id\":\"3f5aaa26-3145-4888-b6c7-6afcaf4f83a2\",\"type\":\"Toolbar\"},{\"attributes\":{\"data_source\":{\"id\":\"d7f92855-bca7-464e-909f-bb27e0e4c3cb\",\"type\":\"ColumnDataSource\"},\"glyph\":{\"id\":\"e620bdb6-fa40-416b-a993-ad501d2cc62b\",\"type\":\"Circle\"},\"hover_glyph\":null,\"muted_glyph\":null,\"nonselection_glyph\":{\"id\":\"1b8e7dd8-0aee-488b-af52-704d1a828295\",\"type\":\"Circle\"},\"selection_glyph\":null,\"view\":{\"id\":\"3a1dfd6d-e1a6-42a6-a1be-a34472bad3f5\",\"type\":\"CDSView\"}},\"id\":\"565bcfc0-7990-46d4-a800-2ca741977246\",\"type\":\"GlyphRenderer\"},{\"attributes\":{\"line_width\":{\"value\":2},\"x0\":{\"value\":0},\"x1\":{\"field\":\"x1\"},\"y0\":{\"field\":\"y0\"},\"y1\":{\"field\":\"y1\"}},\"id\":\"a3c0a143-0e3b-4629-81df-54d3fed3902b\",\"type\":\"Segment\"},{\"attributes\":{\"callback\":null,\"end\":3900000},\"id\":\"f7819be1-e29d-45aa-a76c-f0260e3625b4\",\"type\":\"Range1d\"},{\"attributes\":{\"children\":[{\"id\":\"0f55ef04-2055-41e5-9a07-3278c0256fca\",\"subtype\":\"Figure\",\"type\":\"Plot\"}],\"sizing_mode\":\"scale_width\"},\"id\":\"348f8083-c414-41e9-827f-b4e51f59cb8e\",\"type\":\"Row\"},{\"attributes\":{\"formatter\":{\"id\":\"0d34568f-c2d2-455a-ba03-00fd3d981458\",\"type\":\"BasicTickFormatter\"},\"plot\":{\"id\":\"0f55ef04-2055-41e5-9a07-3278c0256fca\",\"subtype\":\"Figure\",\"type\":\"Plot\"},\"ticker\":{\"id\":\"e1278ffe-c9ea-46cd-a6ce-0624560addb4\",\"type\":\"BasicTicker\"}},\"id\":\"2833c999-be2c-471c-9937-875b490fa99c\",\"type\":\"LinearAxis\"},{\"attributes\":{},\"id\":\"e86adfda-2b6f-4166-bff9-94a5d0ac9abc\",\"type\":\"CategoricalTicker\"}],\"root_ids\":[\"348f8083-c414-41e9-827f-b4e51f59cb8e\"]},\"title\":\"Bokeh Application\",\"version\":\"0.12.11\"}};\n",
       "    var render_items = [{\"docid\":\"4cfcaa72-d040-4549-ac5e-af574de4e1de\",\"elementid\":\"d73ede36-e679-4d53-bcb6-7c61091ff2e7\",\"modelid\":\"348f8083-c414-41e9-827f-b4e51f59cb8e\"}];\n",
       "    root.Bokeh.embed.embed_items(docs_json, render_items);\n",
       "  }\n",
       "  if (root.Bokeh !== undefined) {\n",
       "    embed_document(root);\n",
       "  } else {\n",
       "    var attempts = 0;\n",
       "    var timer = setInterval(function(root) {\n",
       "      if (root.Bokeh !== undefined) {\n",
       "        embed_document(root);\n",
       "        clearInterval(timer);\n",
       "      }\n",
       "      attempts++;\n",
       "      if (attempts > 100) {\n",
       "        console.log(\"Bokeh: ERROR: Unable to embed document because BokehJS library is missing\")\n",
       "        clearInterval(timer);\n",
       "      }\n",
       "    }, 10, root)\n",
       "  }\n",
       "})(window);"
      ],
      "application/vnd.bokehjs_exec.v0+json": ""
     },
     "metadata": {
      "application/vnd.bokehjs_exec.v0+json": {
       "id": "348f8083-c414-41e9-827f-b4e51f59cb8e"
      }
     },
     "output_type": "display_data"
    }
   ],
   "source": [
    "# con ayuda de bokeh podemos obtener varios tipos de graficos\n",
    "# https://bokeh.pydata.org/en/latest/docs/gallery.html\n",
    "# En esta ocasion utilizaremos un grafico de lineal para presentar la poblacion total de las provincias \n",
    "# y ver que provincia tiene mayor poblacion\n",
    "from bokeh.layouts import row\n",
    "from bokeh.plotting import figure, show, output_file\n",
    "\n",
    "factors = ['Azuay','Bolivar','Cañar' ,'Carchi', 'Cotopaxi', 'Chimborazo', 'El Oro', 'Esmeraldas','Guayas', 'Imbabura', 'Loja', 'Los Rios', 'Manabi','Morona Santiago', 'Napo', 'Pastaza', 'Pichincha', 'Tungurahua','Zamora Chinchipe', 'Galápagos', 'Sucumbíos', 'Orellana', 'Santo Domingo', 'Santa Elena', 'Zonas No Delimitadas']\n",
    "x =  [712127,183641,225184, 164524, 409205, 458581, 600659, 534092,3645483, 398244, 448966, 778115, 1369780, 147940, 103697, 83933, 2576287,504583, 91376, 25124, 176472, 136396, 368013, 308693, 32384]\n",
    "\n",
    "dot = figure(title=\"Total de poblacion por provincia\", tools=\"\", toolbar_location=None,\n",
    "            y_range=factors, x_range=[0,3900000])\n",
    "\n",
    "dot.segment(0, factors, x, factors, line_width=2, line_color=\"black\", )\n",
    "dot.circle(x, factors, size=15, fill_color=\"orange\", line_color=\"green\", line_width=5, )\n",
    "\n",
    "\n",
    "output_file(\"Total de Poblacion por Provincia.html\", title=\"categorical.py example\")\n",
    "\n",
    "show(row(dot, sizing_mode=\"scale_width\"))  # open a browser"
   ]
  },
  {
   "cell_type": "code",
   "execution_count": 44,
   "metadata": {},
   "outputs": [
    {
     "ename": "SyntaxError",
     "evalue": "invalid syntax (<ipython-input-44-d06b9804e594>, line 2)",
     "output_type": "error",
     "traceback": [
      "\u001b[0;36m  File \u001b[0;32m\"<ipython-input-44-d06b9804e594>\"\u001b[0;36m, line \u001b[0;32m2\u001b[0m\n\u001b[0;31m    from  import pyplot\u001b[0m\n\u001b[0m               ^\u001b[0m\n\u001b[0;31mSyntaxError\u001b[0m\u001b[0;31m:\u001b[0m invalid syntax\n"
     ]
    }
   ],
   "source": [
    "# Ahora presentaremos un grafico tipo pastel con ayuda de matptlib , en el reflejaremos el total de poblacion por region\n",
    "from  import pyplot\n"
   ]
  },
  {
   "cell_type": "code",
   "execution_count": 45,
   "metadata": {},
   "outputs": [
    {
     "ename": "NameError",
     "evalue": "name 'pyplot' is not defined",
     "output_type": "error",
     "traceback": [
      "\u001b[0;31m---------------------------------------------------------------------------\u001b[0m",
      "\u001b[0;31mNameError\u001b[0m                                 Traceback (most recent call last)",
      "\u001b[0;32m<ipython-input-45-64dbdaab4757>\u001b[0m in \u001b[0;36m<module>\u001b[0;34m()\u001b[0m\n\u001b[1;32m      6\u001b[0m \u001b[0mslices\u001b[0m\u001b[0;34m=\u001b[0m\u001b[0;34m(\u001b[0m\u001b[0;36m7604835\u001b[0m\u001b[0;34m,\u001b[0m\u001b[0;36m6081342\u001b[0m\u001b[0;34m,\u001b[0m\u001b[0;36m739814\u001b[0m\u001b[0;34m)\u001b[0m\u001b[0;34m\u001b[0m\u001b[0m\n\u001b[1;32m      7\u001b[0m \u001b[0mcolores\u001b[0m\u001b[0;34m=\u001b[0m\u001b[0;34m(\u001b[0m\u001b[0;34m'red'\u001b[0m\u001b[0;34m,\u001b[0m\u001b[0;34m'blue'\u001b[0m\u001b[0;34m,\u001b[0m\u001b[0;34m'green'\u001b[0m\u001b[0;34m)\u001b[0m\u001b[0;34m\u001b[0m\u001b[0m\n\u001b[0;32m----> 8\u001b[0;31m \u001b[0mpyplot\u001b[0m\u001b[0;34m.\u001b[0m\u001b[0mpie\u001b[0m\u001b[0;34m(\u001b[0m\u001b[0mslices\u001b[0m\u001b[0;34m,\u001b[0m\u001b[0mshadow\u001b[0m\u001b[0;34m=\u001b[0m\u001b[0;32mTrue\u001b[0m\u001b[0;34m,\u001b[0m\u001b[0mlabels\u001b[0m\u001b[0;34m=\u001b[0m\u001b[0mlenguajes\u001b[0m\u001b[0;34m,\u001b[0m \u001b[0mcolors\u001b[0m\u001b[0;34m=\u001b[0m\u001b[0mcolores\u001b[0m\u001b[0;34m,\u001b[0m\u001b[0mautopct\u001b[0m\u001b[0;34m=\u001b[0m\u001b[0;34m(\u001b[0m\u001b[0;34m'%1.1f%%'\u001b[0m\u001b[0;34m)\u001b[0m\u001b[0;34m)\u001b[0m\u001b[0;34m\u001b[0m\u001b[0m\n\u001b[0m\u001b[1;32m      9\u001b[0m \u001b[0;31m# con ayuda del comando autoct podemos calcular el porcenteje y presentarlo\u001b[0m\u001b[0;34m\u001b[0m\u001b[0;34m\u001b[0m\u001b[0m\n\u001b[1;32m     10\u001b[0m \u001b[0mpyplot\u001b[0m\u001b[0;34m.\u001b[0m\u001b[0mtitle\u001b[0m\u001b[0;34m(\u001b[0m\u001b[0;34m'Censo total por regiones del Ecuador'\u001b[0m\u001b[0;34m,\u001b[0m\u001b[0mbbox\u001b[0m\u001b[0;34m=\u001b[0m\u001b[0;34m{\u001b[0m\u001b[0;34m\"facecolor\"\u001b[0m\u001b[0;34m:\u001b[0m\u001b[0;34m\"1.8\"\u001b[0m\u001b[0;34m,\u001b[0m \u001b[0;34m\"pad\"\u001b[0m\u001b[0;34m:\u001b[0m\u001b[0;36m5\u001b[0m\u001b[0;34m}\u001b[0m\u001b[0;34m)\u001b[0m\u001b[0;34m\u001b[0m\u001b[0m\n",
      "\u001b[0;31mNameError\u001b[0m: name 'pyplot' is not defined"
     ]
    }
   ],
   "source": [
    "# con ayuda de matptlib podemos obtener varios tipos de graficos\n",
    "#https://matplotlib.org/\n",
    "# En esta ocasion utilizaremos un grafico de tipo pastel para presentar el total de poblacion por region\n",
    "# y ver que region tiene mayor poblacion\n",
    "lenguajes=('Costa','Sierra','Oriente')\n",
    "slices=(7604835,6081342,739814)\n",
    "colores=('red','blue','green')\n",
    "pyplot.pie(slices,shadow=True,labels=lenguajes, colors=colores,autopct=('%1.1f%%'))\n",
    "# con ayuda del comando autoct podemos calcular el porcenteje y presentarlo\n",
    "pyplot.title('Censo total por regiones del Ecuador',bbox={\"facecolor\":\"1.8\", \"pad\":5})\n",
    "output_file('pobladas.html')\n",
    "pyplot.savefig('Poblacion total por region.png')\n",
    "\n",
    "\n",
    "\n",
    "pyplot.show()"
   ]
  },
  {
   "cell_type": "code",
   "execution_count": null,
   "metadata": {},
   "outputs": [],
   "source": []
  },
  {
   "cell_type": "code",
   "execution_count": null,
   "metadata": {},
   "outputs": [],
   "source": []
  },
  {
   "cell_type": "code",
   "execution_count": null,
   "metadata": {},
   "outputs": [],
   "source": []
  }
 ],
 "metadata": {
  "kernelspec": {
   "display_name": "Python 3",
   "language": "python",
   "name": "python3"
  },
  "language_info": {
   "codemirror_mode": {
    "name": "ipython",
    "version": 3
   },
   "file_extension": ".py",
   "mimetype": "text/x-python",
   "name": "python",
   "nbconvert_exporter": "python",
   "pygments_lexer": "ipython3",
   "version": "3.5.2"
  }
 },
 "nbformat": 4,
 "nbformat_minor": 2
}
